{
  "cells":[
    {
      "cell_type":"markdown",
      "source":[
        "# NumPy:\n",
        "\n",
        "short for Numerical Python, is one of the most important foundational pack‐ages for numerical computing in Python. Most computational packages providing scientific functionality use NumPy’s array objects as the lingua franca for data exchange."
      ],
      "metadata":{
        
      }
    },
    {
      "cell_type":"markdown",
      "source":[
        "# Benefits and characteristics of NumPy arrays:\n",
        "\n",
        "NumPy arrays have several advantages over Python lists. These benefits are focused\n",
        "on providing high-performance manipulation of sequences of homogenous data\n",
        "items. Several of these benefits are as follows:\n",
        "\n",
        "• Contiguous allocation in memory\n",
        "\n",
        "• Vectorized operations\n",
        "\n",
        "• Boolean selection\n",
        "\n",
        "• Sliceability"
      ],
      "metadata":{
        
      }
    },
    {
      "cell_type":"markdown",
      "source":[
        "# Contiguous allocation in memory:\n",
        "provides benefits in performance by ensuring that\n",
        "all elements of an array are directly accessible at a fixed offset from the beginning\n",
        "of the array. This also is a computer organization technique that facilities providing\n",
        "vectorized operations across arrays."
      ],
      "metadata":{
        
      }
    },
    {
      "cell_type":"markdown",
      "source":[
        "# Vectorized operation:\n",
        "is a technique of applying an operation across all or a subset\n",
        "of elements without explicit coding of loops. Vectorized operations are often orders\n",
        "of magnitude more efficient in execution as compared to loops implemented in a\n",
        "higher-level language. They are also excellent for reducing the amount of code that\n",
        "needs to be written, which also helps in minimizing coding errors."
      ],
      "metadata":{
        
      }
    },
    {
      "cell_type":"markdown",
      "source":[
        "# Boolean selection:\n",
        "is a common pattern that we will see with NumPy and pandas\n",
        "where selection of elements from an array is based on specific logical criteria. This\n",
        "consists of calculating an array of Boolean values where True represents that the\n",
        "given item should be in the result set. This array can then be used to efficiently select\n",
        "the matching items."
      ],
      "metadata":{
        
      }
    },
    {
      "cell_type":"markdown",
      "source":[
        "# Sliceability:\n",
        "\n",
        "provides the programmer with a very efficient means to specify multiple\n",
        "elements in an array using a convenient notation. Slicing becomes invaluable when\n",
        "working with data in an ad hoc manner. The slicing process also benefits from being\n",
        "able to take advantage of the contiguous memory allocation of arrays to optimize\n",
        "access to series of items."
      ],
      "metadata":{
        
      }
    },
    {
      "cell_type":"markdown",
      "source":[
        "# Example:\n",
        "to see the benefits of Contimuous Allocation of memory and Vectorize operation.\n",
        "The following example calculates the time required by the for loop in Python to square a list consisting of 100,000 sequential integers:"
      ],
      "metadata":{
        
      }
    },
    {
      "cell_type":"code",
      "source":[
        "def squares(values):\n",
        "    result = []\n",
        "    for v in values:\n",
        "        result.append(v * v)\n",
        "    return result"
      ],
      "execution_count":null,
      "outputs":[
        
      ],
      "metadata":{
        
      }
    },
    {
      "cell_type":"code",
      "source":[
        "to_square = range(100000)"
      ],
      "execution_count":null,
      "outputs":[
        
      ],
      "metadata":{
        
      }
    },
    {
      "cell_type":"markdown",
      "source":[
        "# time how long it takes to repeatedly square them all:"
      ],
      "metadata":{
        
      }
    },
    {
      "cell_type":"code",
      "source":[
        "%timeit squares(to_square)"
      ],
      "execution_count":null,
      "outputs":[
        
      ],
      "metadata":{
        
      }
    },
    {
      "cell_type":"markdown",
      "source":[
        "# Using NumPy and vectorized arrays:\n",
        "The example can be rewritten as follows"
      ],
      "metadata":{
        
      }
    },
    {
      "cell_type":"code",
      "source":[
        "import numpy as np\n",
        "# now lets do this with a numpy array\n",
        "array_to_square = np.arange(0, 100000)\n",
        "\n",
        "\n",
        "# and time using a vectorized operation\n",
        "%timeit array_to_square ** 2"
      ],
      "execution_count":null,
      "outputs":[
        
      ],
      "metadata":{
        
      }
    },
    {
      "cell_type":"markdown",
      "source":[
        "# Creating NumPy arrays and performing basic array operations:"
      ],
      "metadata":{
        
      }
    },
    {
      "cell_type":"code",
      "source":[
        "# # methods 1\n",
        "\n",
        "# A NumPy array can be created using multiple techniques. The following code creates a new NumPy array object from a Python list:"
      ],
      "execution_count":null,
      "outputs":[
        
      ],
      "metadata":{
        
      }
    },
    {
      "cell_type":"code",
      "source":[
        "alist = [11, 22,33, 44, 55]  \n",
        "arr1 = np.array(alist)\n",
        "arr1"
      ],
      "execution_count":null,
      "outputs":[
        
      ],
      "metadata":{
        
      }
    },
    {
      "cell_type":"code",
      "source":[
        "# We can find the type of array, size of array, dimensions shape or array and dtype of elements "
      ],
      "execution_count":null,
      "outputs":[
        
      ],
      "metadata":{
        
      }
    },
    {
      "cell_type":"code",
      "source":[
        "type(arr1)   # n-dimensional array"
      ],
      "execution_count":null,
      "outputs":[
        
      ],
      "metadata":{
        
      }
    },
    {
      "cell_type":"code",
      "source":[
        "np.size(arr1) # number of elements in array"
      ],
      "execution_count":null,
      "outputs":[
        
      ],
      "metadata":{
        
      }
    },
    {
      "cell_type":"code",
      "source":[
        "arr1.dtype"
      ],
      "execution_count":null,
      "outputs":[
        
      ],
      "metadata":{
        
      }
    },
    {
      "cell_type":"code",
      "source":[
        "np.shape(arr1)  # in case of vector shpe tell the number of elements \n",
        "                # in case of matrix shape tells the row n col"
      ],
      "execution_count":null,
      "outputs":[
        
      ],
      "metadata":{
        
      }
    },
    {
      "cell_type":"code",
      "source":[
        "testArr = np.array([1,2,3,4,5.5], dtype='int')\n",
        "testArr"
      ],
      "execution_count":null,
      "outputs":[
        
      ],
      "metadata":{
        
      }
    },
    {
      "cell_type":"code",
      "source":[
        "arr1.ndim #returns the dimenssion of the array either it is 1d, 2d, 3d or nd"
      ],
      "execution_count":null,
      "outputs":[
        
      ],
      "metadata":{
        
      }
    },
    {
      "cell_type":"code",
      "source":[
        "a = np.array([[100]])\n",
        "a.ndim"
      ],
      "execution_count":null,
      "outputs":[
        
      ],
      "metadata":{
        
      }
    },
    {
      "cell_type":"markdown",
      "source":[
        "1d array =[1,2,3]>>> vector dimension>>1 tensor\n",
        "\n",
        "2d array = [[1,2,3],[2,3,4]]>>matrix\/tensor >>2"
      ],
      "metadata":{
        
      }
    },
    {
      "cell_type":"code",
      "source":[
        "# # method 2\n",
        "\n",
        "# We can create a python range into numpyy array"
      ],
      "execution_count":null,
      "outputs":[
        
      ],
      "metadata":{
        
      }
    },
    {
      "cell_type":"code",
      "source":[
        "np.array(range(10))"
      ],
      "execution_count":null,
      "outputs":[
        
      ],
      "metadata":{
        
      }
    },
    {
      "cell_type":"code",
      "source":[
        "# # method 3\n",
        "\n",
        "# make \"a range\" starting at 0 and with 10 values \n",
        "\n",
        "#                 >>>>>>np.arange(0, 10)<<<<<<"
      ],
      "execution_count":null,
      "outputs":[
        
      ],
      "metadata":{
        
      }
    },
    {
      "cell_type":"code",
      "source":[
        "np.arange(10)"
      ],
      "execution_count":null,
      "outputs":[
        
      ],
      "metadata":{
        
      }
    },
    {
      "cell_type":"code",
      "source":[
        "# 0 <= x < 10 increment by two\n",
        "np.arange(0, 10, 2)  #starting, numberofvalues, step"
      ],
      "execution_count":null,
      "outputs":[
        
      ],
      "metadata":{
        
      }
    },
    {
      "cell_type":"code",
      "source":[
        "# 10 >= x > 0, counting down\n",
        "np.arange(10, 0, -1)"
      ],
      "execution_count":null,
      "outputs":[
        
      ],
      "metadata":{
        
      }
    },
    {
      "cell_type":"code",
      "source":[
        "# evenly spaced #'s between two intervals\n",
        "np.linspace(0, 10, 20)"
      ],
      "execution_count":null,
      "outputs":[
        
      ],
      "metadata":{
        
      }
    },
    {
      "cell_type":"markdown",
      "source":[
        "# Array creation functions:"
      ],
      "metadata":{
        
      }
    },
    {
      "cell_type":"markdown",
      "source":[
        "![NumpyArrayCreationFunctions.png](attachment:NumpyArrayCreationFunctions.png)"
      ],
      "metadata":{
        
      }
    },
    {
      "cell_type":"markdown",
      "source":[
        "# Expicitly Convert \/Cast Data type of ndarray:"
      ],
      "metadata":{
        
      }
    },
    {
      "cell_type":"code",
      "source":[
        "int_arr = np.array([100, 200, 300, 400, 500])\n",
        "int_arr.dtype"
      ],
      "execution_count":null,
      "outputs":[
        
      ],
      "metadata":{
        
      }
    },
    {
      "cell_type":"code",
      "source":[
        "float_arr = int_arr.astype('float64')\n",
        "float_arr.dtype"
      ],
      "execution_count":null,
      "outputs":[
        
      ],
      "metadata":{
        
      }
    },
    {
      "cell_type":"markdown",
      "source":[
        "# Note:\n",
        "Casting floating point into integer data type will truncate the decimal part"
      ],
      "metadata":{
        
      }
    },
    {
      "cell_type":"code",
      "source":[
        "arr2 = np.array([3.7, -1.2, -2.6, 0.5, 12.9, 10.1])\n",
        "arr2"
      ],
      "execution_count":null,
      "outputs":[
        
      ],
      "metadata":{
        
      }
    },
    {
      "cell_type":"code",
      "source":[
        "arr3 = arr2.astype(np.int32)\n",
        "arr3"
      ],
      "execution_count":null,
      "outputs":[
        
      ],
      "metadata":{
        
      }
    },
    {
      "cell_type":"markdown",
      "source":[
        "# Arithmetic with NumPy Arrays:"
      ],
      "metadata":{
        
      }
    },
    {
      "cell_type":"markdown",
      "source":[
        "NumPy arrays will vectorize many mathematical operators. The following example\n",
        "creates a 10-element array and then multiplies each element by a constant:"
      ],
      "metadata":{
        
      }
    },
    {
      "cell_type":"code",
      "source":[
        "# multiply numpy array by 2\n",
        "a1 = np.arange(0, 10)\n",
        "a1 * 2"
      ],
      "execution_count":null,
      "outputs":[
        
      ],
      "metadata":{
        
      }
    },
    {
      "cell_type":"code",
      "source":[
        "# add two numpy arrays\n",
        "a2 = np.arange(10, 20)\n",
        "a1 + a2"
      ],
      "execution_count":null,
      "outputs":[
        
      ],
      "metadata":{
        
      }
    },
    {
      "cell_type":"markdown",
      "source":[
        "# Accessing 1-D array elements:"
      ],
      "metadata":{
        
      }
    },
    {
      "cell_type":"code",
      "source":[
        "a2[0]"
      ],
      "execution_count":null,
      "outputs":[
        
      ],
      "metadata":{
        
      }
    },
    {
      "cell_type":"code",
      "source":[
        "a2[-1]"
      ],
      "execution_count":null,
      "outputs":[
        
      ],
      "metadata":{
        
      }
    },
    {
      "cell_type":"code",
      "source":[
        "# select 0-based elements 0 and 2\n",
        "a1[0], a1[2]"
      ],
      "execution_count":null,
      "outputs":[
        
      ],
      "metadata":{
        
      }
    },
    {
      "cell_type":"markdown",
      "source":[
        "# 2d numpy Array:"
      ],
      "metadata":{
        
      }
    },
    {
      "cell_type":"code",
      "source":[
        "# Creating a 2d array by python list \n",
        "\n",
        "# [ [r1],[r2],[r3],[r4] ]"
      ],
      "execution_count":null,
      "outputs":[
        
      ],
      "metadata":{
        
      }
    },
    {
      "cell_type":"code",
      "source":[
        "arr2d = np.array([[1,2,3,4,5,6], [11,22,33,44,55,66],[22,33,44,55,66,77]])\n",
        "arr2d"
      ],
      "execution_count":null,
      "outputs":[
        
      ],
      "metadata":{
        
      }
    },
    {
      "cell_type":"markdown",
      "source":[
        "A more convenient and efficient means is to use the NumPy array's \n",
        "\n",
        "       >>> np.reshape()<<<<\n",
        "       \n",
        "method to reorganize a one-dimensional array into two dimensions."
      ],
      "metadata":{
        
      }
    },
    {
      "cell_type":"code",
      "source":[
        "arr1d = np.arange(20)\n",
        "arr1d"
      ],
      "execution_count":null,
      "outputs":[
        
      ],
      "metadata":{
        
      }
    },
    {
      "cell_type":"code",
      "source":[
        "arr2d = arr1d.reshape(4,5)\n",
        "arr2d"
      ],
      "execution_count":null,
      "outputs":[
        
      ],
      "metadata":{
        
      }
    },
    {
      "cell_type":"code",
      "source":[
        "arr2d = np.arange(20).reshape(4,5)\n",
        "arr2d"
      ],
      "execution_count":null,
      "outputs":[
        
      ],
      "metadata":{
        
      }
    },
    {
      "cell_type":"code",
      "source":[
        "# size of any dimensional array is the # of elements\n",
        "np.size(arr2d)"
      ],
      "execution_count":null,
      "outputs":[
        
      ],
      "metadata":{
        
      }
    },
    {
      "cell_type":"code",
      "source":[
        "# can ask the size along a given axis (0 is rows)\n",
        "np.size(arr2d, 0)"
      ],
      "execution_count":null,
      "outputs":[
        
      ],
      "metadata":{
        
      }
    },
    {
      "cell_type":"code",
      "source":[
        "# and 1 is the columns\n",
        "np.size(arr2d, 1)"
      ],
      "execution_count":null,
      "outputs":[
        
      ],
      "metadata":{
        
      }
    },
    {
      "cell_type":"code",
      "source":[
        "arr2d.shape"
      ],
      "execution_count":null,
      "outputs":[
        
      ],
      "metadata":{
        
      }
    },
    {
      "cell_type":"code",
      "source":[
        "# a 2d array again can be reshaped to 1d"
      ],
      "execution_count":null,
      "outputs":[
        
      ],
      "metadata":{
        
      }
    },
    {
      "cell_type":"code",
      "source":[
        "arr1d = arr2d.reshape(20)  # in this way we need to know how many elements are there in original array\n",
        "print(arr1d)                      # we are open to reshape to any dimension either 1d or other\n",
        "\n",
        "print(\"======================================================\")\n",
        "# reshaping a 2darray to 3darray\n",
        "\n",
        "\n",
        "arr2d = np.arange(64).reshape(8,8)\n",
        "\n",
        "print(arr2d)\n",
        "\n",
        "print(\"============================\")\n",
        "\n",
        "arr3d = arr2d.reshape(2,4,8)  #(depth, rows,columns)\n",
        "arr3d"
      ],
      "execution_count":null,
      "outputs":[
        
      ],
      "metadata":{
        
      }
    },
    {
      "cell_type":"code",
      "source":[
        "# #             >>>>>np.ravel()>>>>>\n",
        "# is another methods but it direclty converts the array to 1d only"
      ],
      "execution_count":null,
      "outputs":[
        
      ],
      "metadata":{
        
      }
    },
    {
      "cell_type":"code",
      "source":[
        "raveled_arr1d = arr2d.ravel()\n",
        "raveled_arr1d"
      ],
      "execution_count":null,
      "outputs":[
        
      ],
      "metadata":{
        
      }
    },
    {
      "cell_type":"code",
      "source":[
        "#             >>>>>>>>np.ravel() and np.reshape()<<<<<<<<<"
      ],
      "execution_count":null,
      "outputs":[
        
      ],
      "metadata":{
        
      }
    },
    {
      "cell_type":"code",
      "source":[
        "# Even though .reshape() and .ravel() do not change the shape of the original\n",
        "# array or matrix, they do actually return a one-dimensional view into the specified\n",
        "# array or matrix. If you change an element in this view, the value in the original array\n",
        "# or matrix is changed. The following example demonstrates this ability to change\n",
        "# items of the original matrix through the view:"
      ],
      "execution_count":null,
      "outputs":[
        
      ],
      "metadata":{
        
      }
    },
    {
      "cell_type":"code",
      "source":[
        "raveled_arr1d[0]=999\n",
        "raveled_arr1d"
      ],
      "execution_count":null,
      "outputs":[
        
      ],
      "metadata":{
        
      }
    },
    {
      "cell_type":"code",
      "source":[
        "arr2d  # array shows the effect of change in ravel"
      ],
      "execution_count":null,
      "outputs":[
        
      ],
      "metadata":{
        
      }
    },
    {
      "cell_type":"code",
      "source":[
        "array2d = np.arange(9).reshape(3,3)\n",
        "array2d"
      ],
      "execution_count":null,
      "outputs":[
        
      ],
      "metadata":{
        
      }
    },
    {
      "cell_type":"code",
      "source":[
        "array1d=array2d.reshape(9)\n",
        "array1d"
      ],
      "execution_count":null,
      "outputs":[
        
      ],
      "metadata":{
        
      }
    },
    {
      "cell_type":"code",
      "source":[
        "array1d[1]=777\n",
        "array1d"
      ],
      "execution_count":null,
      "outputs":[
        
      ],
      "metadata":{
        
      }
    },
    {
      "cell_type":"code",
      "source":[
        "array2d # show the change done in array1d coz array 1d is view of array2d"
      ],
      "execution_count":null,
      "outputs":[
        
      ],
      "metadata":{
        
      }
    },
    {
      "cell_type":"code",
      "source":[
        "# #             >>>>>np.flatten()>>>>>\n",
        "\n",
        "# is another methods but it direclty converts the array to 1d only. The .flatten() method functions similarly to .ravel() but instead returns a new\n",
        "# array with copied data instead of a view. Changes to the result do not change the\n",
        "# original matrix:"
      ],
      "execution_count":null,
      "outputs":[
        
      ],
      "metadata":{
        
      }
    },
    {
      "cell_type":"code",
      "source":[
        "array = np.arange(25).reshape(5,5)\n",
        "array"
      ],
      "execution_count":null,
      "outputs":[
        
      ],
      "metadata":{
        
      }
    },
    {
      "cell_type":"code",
      "source":[
        "flattened_array = array.flatten()\n",
        "flattened_array"
      ],
      "execution_count":null,
      "outputs":[
        
      ],
      "metadata":{
        
      }
    },
    {
      "cell_type":"code",
      "source":[
        "flattened_array[7]=555\n",
        "flattened_array"
      ],
      "execution_count":null,
      "outputs":[
        
      ],
      "metadata":{
        
      }
    },
    {
      "cell_type":"code",
      "source":[
        "array # there is no effect in original"
      ],
      "execution_count":null,
      "outputs":[
        
      ],
      "metadata":{
        
      }
    },
    {
      "cell_type":"markdown",
      "source":[
        "# np.resize(): \n",
        "Danger!!!!"
      ],
      "metadata":{
        
      }
    },
    {
      "cell_type":"code",
      "source":[
        "# The .resize() method functions similarly to the .reshape() method, except\n",
        "# that while reshaping returns a new array with data copied into it, .resize()\n",
        "# performs an in-place reshaping of the array.:"
      ],
      "execution_count":null,
      "outputs":[
        
      ],
      "metadata":{
        
      }
    },
    {
      "cell_type":"code",
      "source":[
        "newarray = np.arange(0, 9).reshape(3,3)\n",
        "newarray"
      ],
      "execution_count":null,
      "outputs":[
        
      ],
      "metadata":{
        
      }
    },
    {
      "cell_type":"code",
      "source":[
        "resized = newarray.resize(1,9)\n",
        "print(resized)  # it is returning none infact it changed the original data"
      ],
      "execution_count":null,
      "outputs":[
        
      ],
      "metadata":{
        
      }
    },
    {
      "cell_type":"code",
      "source":[
        "newarray"
      ],
      "execution_count":null,
      "outputs":[
        
      ],
      "metadata":{
        
      }
    },
    {
      "cell_type":"markdown",
      "source":[
        "# Basic Indexing and Slicing of Multidimensional Arrays"
      ],
      "metadata":{
        
      }
    },
    {
      "cell_type":"code",
      "source":[
        "ar2d = np.array([[1, 2, 3], [4, 5, 6], [7, 8, 9]])\n",
        "ar2d"
      ],
      "execution_count":null,
      "outputs":[
        
      ],
      "metadata":{
        
      }
    },
    {
      "cell_type":"markdown",
      "source":[
        "# Indexing:\n",
        "It is a process in which we target(access)indvidual or group of contagious values of ndarrays."
      ],
      "metadata":{
        
      }
    },
    {
      "cell_type":"code",
      "source":[
        "# accessing a complete row  in a 2d array not 1d array\n",
        "ar2d[2]"
      ],
      "execution_count":null,
      "outputs":[
        
      ],
      "metadata":{
        
      }
    },
    {
      "cell_type":"code",
      "source":[
        "# accessing a complete column\n",
        "ar2d[:,1]"
      ],
      "execution_count":null,
      "outputs":[
        
      ],
      "metadata":{
        
      }
    },
    {
      "cell_type":"code",
      "source":[
        "# accessing an element of a 2d array\n",
        "d2array = np.arange(25).reshape(5,5)\n",
        "d2array"
      ],
      "execution_count":null,
      "outputs":[
        
      ],
      "metadata":{
        
      }
    },
    {
      "cell_type":"markdown",
      "source":[
        "![2daray.png](attachment:2daray.png)"
      ],
      "metadata":{
        
      }
    },
    {
      "cell_type":"code",
      "source":[
        "#d2array[2,2]\n",
        "d2array[2][2]"
      ],
      "execution_count":null,
      "outputs":[
        
      ],
      "metadata":{
        
      }
    },
    {
      "cell_type":"markdown",
      "source":[
        "![2daray2.png](attachment:2daray2.png)"
      ],
      "metadata":{
        
      }
    },
    {
      "cell_type":"code",
      "source":[
        "d2array[0,3], d2array[1,2],d2array[2,4],d2array[4,1]"
      ],
      "execution_count":null,
      "outputs":[
        
      ],
      "metadata":{
        
      }
    },
    {
      "cell_type":"markdown",
      "source":[
        "# Structure  for indexing and slicing in a 2darray "
      ],
      "metadata":{
        
      }
    },
    {
      "cell_type":"markdown",
      "source":[
        "![2daray_struc.png](attachment:2daray_struc.png)"
      ],
      "metadata":{
        
      }
    },
    {
      "cell_type":"markdown",
      "source":[
        "![2daray3.png](attachment:2daray3.png)"
      ],
      "metadata":{
        
      }
    },
    {
      "cell_type":"code",
      "source":[
        "#Light Blue\n",
        "\n",
        "print(d2array[0:4,1])  #>>>indexing\n",
        "\n",
        "print(\"++++++++++++++\")\n",
        "d2array[0:4,1:2] #>>> slicing "
      ],
      "execution_count":null,
      "outputs":[
        
      ],
      "metadata":{
        
      }
    },
    {
      "cell_type":"code",
      "source":[
        "#yellow\n",
        "d2array[1:,0:3]"
      ],
      "execution_count":null,
      "outputs":[
        
      ],
      "metadata":{
        
      }
    },
    {
      "cell_type":"code",
      "source":[
        "#blue\n",
        "d2array[0:2,-2:]"
      ],
      "execution_count":null,
      "outputs":[
        
      ],
      "metadata":{
        
      }
    },
    {
      "cell_type":"code",
      "source":[
        "#green\n",
        "d2array[3:,2:]"
      ],
      "execution_count":null,
      "outputs":[
        
      ],
      "metadata":{
        
      }
    },
    {
      "cell_type":"markdown",
      "source":[
        "![2dSlicing.png](attachment:2dSlicing.png)"
      ],
      "metadata":{
        
      }
    },
    {
      "cell_type":"markdown",
      "source":[
        "# Question:\n",
        "What is the difference between indexing and slicing ??"
      ],
      "metadata":{
        
      }
    },
    {
      "cell_type":"markdown",
      "source":[
        "# Indexing:\n",
        "Targets the element of the array. The returned is the individual vlaue or group of values having their own data types."
      ],
      "metadata":{
        
      }
    },
    {
      "cell_type":"code",
      "source":[
        "d2array"
      ],
      "execution_count":null,
      "outputs":[
        
      ],
      "metadata":{
        
      }
    },
    {
      "cell_type":"code",
      "source":[
        "d2array[4][2]   # returns and element of the array 22 that is int type "
      ],
      "execution_count":null,
      "outputs":[
        
      ],
      "metadata":{
        
      }
    },
    {
      "cell_type":"markdown",
      "source":[
        "# Slicing:\n",
        "Gives the part of the array that have the same deimension(shape) as the full array has."
      ],
      "metadata":{
        
      }
    },
    {
      "cell_type":"code",
      "source":[
        "d2array[1:4,2:3]   # notice the brackets around 22 shows its not an element but a 2d array with one element 22."
      ],
      "execution_count":null,
      "outputs":[
        
      ],
      "metadata":{
        
      }
    },
    {
      "cell_type":"markdown",
      "source":[
        "# Combining array"
      ],
      "metadata":{
        
      }
    },
    {
      "cell_type":"markdown",
      "source":[
        "Arrays can be combined in various ways. This process in NumPy is referred to\n",
        "as stacking. Stacking can take various forms, including horizontal, vertical, and\n",
        "depth-wise stacking. To demonstrate this, we will use the following two arrays"
      ],
      "metadata":{
        
      }
    },
    {
      "cell_type":"markdown",
      "source":[
        "# Stacking"
      ],
      "metadata":{
        
      }
    },
    {
      "cell_type":"markdown",
      "source":[
        "Join a sequence of arrays along a new axis."
      ],
      "metadata":{
        
      }
    },
    {
      "cell_type":"code",
      "source":[
        "import numpy as np\n",
        "a = np.arange(9).reshape(3,3)\n",
        "b = np.arange(9,18).reshape(3,3)\n",
        "print(a)\n",
        "print(\"============\")\n",
        "print(b)"
      ],
      "execution_count":null,
      "outputs":[
        
      ],
      "metadata":{
        
      }
    },
    {
      "cell_type":"code",
      "source":[
        "np.stack((a,b))  # olny stack"
      ],
      "execution_count":null,
      "outputs":[
        
      ],
      "metadata":{
        
      }
    },
    {
      "cell_type":"markdown",
      "source":[
        "# Horizontal stacking"
      ],
      "metadata":{
        
      }
    },
    {
      "cell_type":"markdown",
      "source":[
        "Combines two arrays in a manner where the columns of the\n",
        "second array are placed to the right of those in the first array. The function actually\n",
        "stacks the two items provided in a two-element tuple. The result is a new array with\n",
        "data copied from the two that are specified:"
      ],
      "metadata":{
        
      }
    },
    {
      "cell_type":"code",
      "source":[
        "arr1 = np.arange(16).reshape(8,2)\n",
        "arr1"
      ],
      "execution_count":null,
      "outputs":[
        
      ],
      "metadata":{
        
      }
    },
    {
      "cell_type":"code",
      "source":[
        "arr2 = np.arange(16,56).reshape(8,5)\n",
        "arr2"
      ],
      "execution_count":null,
      "outputs":[
        
      ],
      "metadata":{
        
      }
    },
    {
      "cell_type":"code",
      "source":[
        "np.hstack((arr2, arr1))"
      ],
      "execution_count":null,
      "outputs":[
        
      ],
      "metadata":{
        
      }
    },
    {
      "cell_type":"code",
      "source":[
        "np.concatenate((arr1,arr2),axis=1)   #similar to hstack"
      ],
      "execution_count":null,
      "outputs":[
        
      ],
      "metadata":{
        
      }
    },
    {
      "cell_type":"markdown",
      "source":[
        "# Vertical Stacking\n",
        "Vertical stacking returns a new array with the contents of the second array as\n",
        "appended rows of the first array."
      ],
      "metadata":{
        
      }
    },
    {
      "cell_type":"code",
      "source":[
        "arr3 = np.arange(20).reshape(2,10)\n",
        "arr3"
      ],
      "execution_count":null,
      "outputs":[
        
      ],
      "metadata":{
        
      }
    },
    {
      "cell_type":"code",
      "source":[
        "arr4 = np.arange(20,60).reshape(4,10)\n",
        "arr5 = np.arange(20,60).reshape(4,10)"
      ],
      "execution_count":null,
      "outputs":[
        
      ],
      "metadata":{
        
      }
    },
    {
      "cell_type":"code",
      "source":[
        "np.vstack((arr4,arr3, arr5))"
      ],
      "execution_count":null,
      "outputs":[
        
      ],
      "metadata":{
        
      }
    },
    {
      "cell_type":"code",
      "source":[
        "np.concatenate((arr3,arr4), axis=0)"
      ],
      "execution_count":null,
      "outputs":[
        
      ],
      "metadata":{
        
      }
    },
    {
      "cell_type":"markdown",
      "source":[
        "# Columns stacking \n",
        "do yourselves"
      ],
      "metadata":{
        
      }
    },
    {
      "cell_type":"markdown",
      "source":[
        "# Row Stacking\n",
        "dys"
      ],
      "metadata":{
        
      }
    },
    {
      "cell_type":"markdown",
      "source":[
        "# Depth stacking\n",
        "\n",
        "takes a list of arrays and arranges them in order along an additional\n",
        "axis referred to as the depth:\n",
        "\n",
        "#dstack stacks each independent column of a and b"
      ],
      "metadata":{
        
      }
    },
    {
      "cell_type":"code",
      "source":[
        "arr5 = np.arange(9).reshape(3,3)\n",
        "arr5"
      ],
      "execution_count":null,
      "outputs":[
        
      ],
      "metadata":{
        
      }
    },
    {
      "cell_type":"code",
      "source":[
        "arr6 = np.arange(9,18).reshape(3,3) \n",
        "arr6"
      ],
      "execution_count":null,
      "outputs":[
        
      ],
      "metadata":{
        
      }
    },
    {
      "cell_type":"code",
      "source":[
        "a = np.dstack((arr5,arr6))  \n",
        "print(a)\n",
        "a.shape"
      ],
      "execution_count":null,
      "outputs":[
        
      ],
      "metadata":{
        
      }
    },
    {
      "cell_type":"code",
      "source":[
        "import numpy as np\n",
        "x = np.array((13, 15, 17))   #tuple (1,3)\n",
        "y = np.array((5, 7, 9))\n",
        "# print(np.dstack((x,y)).shape)   #(1,3)\n",
        "np.dstack((x,y))"
      ],
      "execution_count":null,
      "outputs":[
        
      ],
      "metadata":{
        
      }
    },
    {
      "cell_type":"markdown",
      "source":[
        "# Splitting arrays\n",
        "Arrays can also be split into multiple arrays along the horizontal, vertical, and depth\n",
        "axes using the np.hsplit(), np.vsplit(), and np.dsplit() functions. We will\n",
        "only look at the np.hsplit() function as the others work similarly."
      ],
      "metadata":{
        
      }
    },
    {
      "cell_type":"code",
      "source":[
        "x = np.arange(9.0)\n",
        "print(x)\n",
        "print(\"#######\")\n",
        "\n",
        "\n",
        "np.split(x, 3)    # horizontally\n"
      ],
      "execution_count":null,
      "outputs":[
        
      ],
      "metadata":{
        
      }
    },
    {
      "cell_type":"code",
      "source":[
        "a = np.arange(12).reshape(3, 4)\n",
        "a"
      ],
      "execution_count":null,
      "outputs":[
        
      ],
      "metadata":{
        
      }
    },
    {
      "cell_type":"code",
      "source":[
        "# horiz split the 2-d array into 4 array columns\n",
        "np.hsplit(a,[1,3])"
      ],
      "execution_count":null,
      "outputs":[
        
      ],
      "metadata":{
        
      }
    },
    {
      "cell_type":"code",
      "source":[
        "# split at columns 1 and 3\n",
        "s = np.vsplit(a, 3)\n",
        "s"
      ],
      "execution_count":null,
      "outputs":[
        
      ],
      "metadata":{
        
      }
    },
    {
      "cell_type":"markdown",
      "source":[
        "# Useful numerical methods of NumPy arrays"
      ],
      "metadata":{
        
      }
    },
    {
      "cell_type":"code",
      "source":[
        "# demonstrate some of the properties of NumPy arrays\n",
        "m = np.arange(10, 19).reshape(3, 3)\n",
        "m = np.array([[2,4,5,7],[77,5,1,0],[8,0,1,4]])\n",
        "print (m)\n",
        "print (\"{0} min of the entire matrix\".format(m.min()))\n",
        "print (\"{0} max of entire matrix\".format(m.max()))\n",
        "print (\"{0} position of the min value\".format(m.argmin()))   #index of min value \n",
        "print (\"{0} position of the max value\".format(m.argmax()))\n",
        "print (\"{0} mins down each column\".format(m.min(axis = 0)))\n",
        "print (\"{0} mins across each row\".format(m.min(axis = 1)))\n",
        "print (\"{0} maxs down each column\".format(m.max(axis = 0)))"
      ],
      "execution_count":null,
      "outputs":[
        
      ],
      "metadata":{
        
      }
    },
    {
      "cell_type":"markdown",
      "source":[
        "# Some statiscal function "
      ],
      "metadata":{
        
      }
    },
    {
      "cell_type":"code",
      "source":[
        "my_array = np.arange(1,37).reshape(6,6)\n",
        "my_array = my_array.astype('int64')"
      ],
      "execution_count":null,
      "outputs":[
        
      ],
      "metadata":{
        
      }
    },
    {
      "cell_type":"code",
      "source":[
        "print(f\"The mean of the array is {my_array.mean()}, \\nThe standard devition is {my_array.std()},\\nand the variation is {my_array.var()}\")"
      ],
      "execution_count":null,
      "outputs":[
        
      ],
      "metadata":{
        
      }
    },
    {
      "cell_type":"code",
      "source":[
        "print(f\"The sum of array is {my_array.sum()}, \\nand the product is {my_array.prod()} \")"
      ],
      "execution_count":null,
      "outputs":[
        
      ],
      "metadata":{
        
      }
    },
    {
      "cell_type":"code",
      "source":[
        "print(f\"The sum of array is {my_array.cumsum()}, \\nand the product is {my_array.cumprod()} \")"
      ],
      "execution_count":null,
      "outputs":[
        
      ],
      "metadata":{
        
      }
    },
    {
      "cell_type":"markdown",
      "source":[
        "# Applying Logical Operators on arrays"
      ],
      "metadata":{
        
      }
    },
    {
      "cell_type":"code",
      "source":[
        "a = np.arange(10)\n",
        "a"
      ],
      "execution_count":null,
      "outputs":[
        
      ],
      "metadata":{
        
      }
    },
    {
      "cell_type":"code",
      "source":[
        "# .any() returns true if any of the values us less than 5 \n",
        "# and .all() return true if and only if all the values are less than 5\n",
        "\n",
        "(a < 5).any()"
      ],
      "execution_count":null,
      "outputs":[
        
      ],
      "metadata":{
        
      }
    },
    {
      "cell_type":"code",
      "source":[
        "(a < 5). all()"
      ],
      "execution_count":null,
      "outputs":[
        
      ],
      "metadata":{
        
      }
    },
    {
      "cell_type":"markdown",
      "source":[
        "# Boolean Indexing"
      ],
      "metadata":{
        
      }
    },
    {
      "cell_type":"code",
      "source":[
        "names = np.array(['Bob', 'Joe', 'Will', 'Bob', 'Will', 'Joe', 'Joe'])\n",
        "names"
      ],
      "execution_count":null,
      "outputs":[
        
      ],
      "metadata":{
        
      }
    },
    {
      "cell_type":"code",
      "source":[
        "data =np.array(np.random.randn(7, 4)*10,dtype=np.int)\n",
        "data"
      ],
      "execution_count":null,
      "outputs":[
        
      ],
      "metadata":{
        
      }
    },
    {
      "cell_type":"markdown",
      "source":[
        "Suppose each name corresponds to a row in the data array and we wanted to select\n",
        "all the rows with corresponding name 'Bob'.\n",
        "\n",
        "Like arithmetic operations, comparisons (such as ==) with arrays are also vectorized.\n",
        "\n",
        "Thus, comparing names with the\n",
        "string 'Bob' yields a boolean array:"
      ],
      "metadata":{
        
      }
    },
    {
      "cell_type":"markdown",
      "source":[
        "![booleanSelection.png](attachment:booleanSelection.png)"
      ],
      "metadata":{
        
      }
    },
    {
      "cell_type":"markdown",
      "source":[
        "First consdier this, if we wnat to select (fancy selection) different rows from array we can pass a list of row indices.\n",
        "\n",
        "But a big but, if we want to select different rows based on some criteria like here we want all rows corresponding to name 'Bob' \n",
        "\n",
        "we will do booean indexing"
      ],
      "metadata":{
        
      }
    },
    {
      "cell_type":"code",
      "source":[
        "# fancy indexing \n",
        "data[[3,0,5]]"
      ],
      "execution_count":null,
      "outputs":[
        
      ],
      "metadata":{
        
      }
    },
    {
      "cell_type":"code",
      "source":[
        "#boolean indexing now\n",
        "\n",
        "names == 'Bob' # vectorize comparision,will return true where name is bob in names array."
      ],
      "execution_count":null,
      "outputs":[
        
      ],
      "metadata":{
        
      }
    },
    {
      "cell_type":"code",
      "source":[
        "# this result can be passed in to data array to select true rows based on true and false (booleans)"
      ],
      "execution_count":null,
      "outputs":[
        
      ],
      "metadata":{
        
      }
    },
    {
      "cell_type":"code",
      "source":[
        "data[[ True, False, False,  True, False, False, False]] # this way"
      ],
      "execution_count":null,
      "outputs":[
        
      ],
      "metadata":{
        
      }
    },
    {
      "cell_type":"code",
      "source":[
        "# a better ways is :\n",
        "data[names=='Bob']  # definitely inside data brackets boolean array will be generated by names=='Bob'"
      ],
      "execution_count":null,
      "outputs":[
        
      ],
      "metadata":{
        
      }
    },
    {
      "cell_type":"code",
      "source":[
        "data[names!='Bob']"
      ],
      "execution_count":null,
      "outputs":[
        
      ],
      "metadata":{
        
      }
    },
    {
      "cell_type":"code",
      "source":[
        "# Selecting two of the three names to combine multiple boolean conditions, use\n",
        "# boolean arithmetic operators like & (and) and | (or):"
      ],
      "execution_count":null,
      "outputs":[
        
      ],
      "metadata":{
        
      }
    },
    {
      "cell_type":"code",
      "source":[
        "mask = (names == 'Bob') | (names == 'Will') \n",
        "mask\n",
        "\n",
        "#this is multiple names condition genearting a sort of mask to provide to data array\n",
        "\n",
        "####The Python keywords and and or do not work with boolean arrays.##############\n",
        "\n",
        "#####################Use & (and) and | (or) instead.#############################"
      ],
      "execution_count":null,
      "outputs":[
        
      ],
      "metadata":{
        
      }
    },
    {
      "cell_type":"code",
      "source":[
        "data[mask]"
      ],
      "execution_count":null,
      "outputs":[
        
      ],
      "metadata":{
        
      }
    },
    {
      "cell_type":"code",
      "source":[
        "data[data < 0] = 0  # another way! It replaces all the values on true indexings with 0"
      ],
      "execution_count":null,
      "outputs":[
        
      ],
      "metadata":{
        
      }
    },
    {
      "cell_type":"code",
      "source":[
        "data"
      ],
      "execution_count":null,
      "outputs":[
        
      ],
      "metadata":{
        
      }
    },
    {
      "cell_type":"markdown",
      "source":[
        "# Fancy Indexing"
      ],
      "metadata":{
        
      }
    },
    {
      "cell_type":"code",
      "source":[
        "data[:,[0,3]]"
      ],
      "execution_count":null,
      "outputs":[
        
      ],
      "metadata":{
        
      }
    },
    {
      "cell_type":"code",
      "source":[
        "data[[-1,-2]]"
      ],
      "execution_count":null,
      "outputs":[
        
      ],
      "metadata":{
        
      }
    },
    {
      "cell_type":"markdown",
      "source":[
        "# Transposing Arrays and Swapping Axes"
      ],
      "metadata":{
        
      }
    },
    {
      "cell_type":"code",
      "source":[
        "print(data)\n",
        "data.T     # T property"
      ],
      "execution_count":null,
      "outputs":[
        
      ],
      "metadata":{
        
      }
    },
    {
      "cell_type":"code",
      "source":[
        "np.transpose(data)"
      ],
      "execution_count":null,
      "outputs":[
        
      ],
      "metadata":{
        
      }
    },
    {
      "cell_type":"markdown",
      "source":[
        "# Universal Functions: Fast Element-Wise Array Functions"
      ],
      "metadata":{
        
      }
    },
    {
      "cell_type":"code",
      "source":[
        "arr = np.arange(10)\n",
        "arr"
      ],
      "execution_count":null,
      "outputs":[
        
      ],
      "metadata":{
        
      }
    },
    {
      "cell_type":"code",
      "source":[
        "np.sqrt(arr)"
      ],
      "execution_count":null,
      "outputs":[
        
      ],
      "metadata":{
        
      }
    },
    {
      "cell_type":"code",
      "source":[
        "np.exp(arr)"
      ],
      "execution_count":null,
      "outputs":[
        
      ],
      "metadata":{
        
      }
    },
    {
      "cell_type":"code",
      "source":[
        "x = np.random.randn(8)*10\n",
        "y = np.random.randn(8)*10\n",
        "print(x)\n",
        "print(y)"
      ],
      "execution_count":null,
      "outputs":[
        
      ],
      "metadata":{
        
      }
    },
    {
      "cell_type":"code",
      "source":[
        "np.maximum(x, y) #compares both arrays element wise and max is included in result"
      ],
      "execution_count":null,
      "outputs":[
        
      ],
      "metadata":{
        
      }
    },
    {
      "cell_type":"code",
      "source":[
        "arr = np.random.randn(7) * 5\n",
        "arr"
      ],
      "execution_count":null,
      "outputs":[
        
      ],
      "metadata":{
        
      }
    },
    {
      "cell_type":"code",
      "source":[
        "remainder, whole_part = np.modf(arr) #modf separate whole n decimal parts and return them "
      ],
      "execution_count":null,
      "outputs":[
        
      ],
      "metadata":{
        
      }
    },
    {
      "cell_type":"code",
      "source":[
        "remainder"
      ],
      "execution_count":null,
      "outputs":[
        
      ],
      "metadata":{
        
      }
    },
    {
      "cell_type":"code",
      "source":[
        "whole_part"
      ],
      "execution_count":null,
      "outputs":[
        
      ],
      "metadata":{
        
      }
    },
    {
      "cell_type":"markdown",
      "source":[
        "# List of unary funcs (Ufuncs)\n",
        "take single array input"
      ],
      "metadata":{
        
      }
    },
    {
      "cell_type":"markdown",
      "source":[
        "![unaryfuncs.png](attachment:unaryfuncs.png)"
      ],
      "metadata":{
        
      }
    },
    {
      "cell_type":"markdown",
      "source":[
        "# List of binary funcs:\n",
        "    take to arrays input"
      ],
      "metadata":{
        
      }
    },
    {
      "cell_type":"markdown",
      "source":[
        "![Binaryfuncs.png](attachment:Binaryfuncs.png)"
      ],
      "metadata":{
        
      }
    },
    {
      "cell_type":"markdown",
      "source":[
        "# Linear Algebra"
      ],
      "metadata":{
        
      }
    },
    {
      "cell_type":"markdown",
      "source":[
        "Like matrix multiplication, decompositions, determinants, and other square matrix math, is an important part of any array library. Unlike some languages like MATLAB, multiplying two two-dimensional arrays with * sign is an element-wise\n",
        "product instead of a matrix dot product. Thus, there is a function dot, both an array method and a function in the numpy namespace, for matrix multiplication."
      ],
      "metadata":{
        
      }
    },
    {
      "cell_type":"code",
      "source":[
        "x = np.array([[1., 2., 3.], [4., 5., 6.]])\n",
        "x"
      ],
      "execution_count":null,
      "outputs":[
        
      ],
      "metadata":{
        
      }
    },
    {
      "cell_type":"code",
      "source":[
        "y = np.array([[6., 23.], [-1, 7], [8, 9]])\n",
        "print(y)\n",
        "z  = np.arange(6).reshape(2,3)\n",
        "z"
      ],
      "execution_count":null,
      "outputs":[
        
      ],
      "metadata":{
        
      }
    },
    {
      "cell_type":"markdown",
      "source":[
        "# Note:\n",
        "    to multiply two matices (element wise multiplication or mirror multiplication) both matrix must have same shape. "
      ],
      "metadata":{
        
      }
    },
    {
      "cell_type":"code",
      "source":[
        "x*y"
      ],
      "execution_count":null,
      "outputs":[
        
      ],
      "metadata":{
        
      }
    },
    {
      "cell_type":"code",
      "source":[
        "x*z"
      ],
      "execution_count":null,
      "outputs":[
        
      ],
      "metadata":{
        
      }
    },
    {
      "cell_type":"markdown",
      "source":[
        "In linear algebra rows of first matrix is multiplied by the columns of second matrix and this is only possilbe\n",
        "when columns of first matrix are equal to the rows of second matrix"
      ],
      "metadata":{
        
      }
    },
    {
      "cell_type":"code",
      "source":[
        
      ],
      "execution_count":null,
      "outputs":[
        
      ],
      "metadata":{
        
      }
    },
    {
      "cell_type":"markdown",
      "source":[
        "![matrixMult.png](attachment:matrixMult.png)"
      ],
      "metadata":{
        
      }
    },
    {
      "cell_type":"code",
      "source":[
        "# order of x\n",
        "x.shape"
      ],
      "execution_count":null,
      "outputs":[
        
      ],
      "metadata":{
        
      }
    },
    {
      "cell_type":"code",
      "source":[
        "# order of y\n",
        "y.shape"
      ],
      "execution_count":null,
      "outputs":[
        
      ],
      "metadata":{
        
      }
    },
    {
      "cell_type":"code",
      "source":[
        "# col of x ==  rows of y \n",
        "# hence matrix multiplication can be done"
      ],
      "execution_count":null,
      "outputs":[
        
      ],
      "metadata":{
        
      }
    },
    {
      "cell_type":"code",
      "source":[
        "np.dot(x,y)"
      ],
      "execution_count":null,
      "outputs":[
        
      ],
      "metadata":{
        
      }
    },
    {
      "cell_type":"code",
      "source":[
        "y.dot(x)  # y.y also fulfilling the rule"
      ],
      "execution_count":null,
      "outputs":[
        
      ],
      "metadata":{
        
      }
    },
    {
      "cell_type":"code",
      "source":[
        "x@y"
      ],
      "execution_count":null,
      "outputs":[
        
      ],
      "metadata":{
        
      }
    },
    {
      "cell_type":"markdown",
      "source":[
        "# Note:\n",
        "it is not neccesary if a.b is possible so b.a will be. \n",
        "\n",
        "np.dot(a,b)  \n",
        "\n",
        "a.dot(b)\n",
        "\n",
        "\n",
        "a@b\n",
        "\n",
        "All are same"
      ],
      "metadata":{
        
      }
    },
    {
      "cell_type":"markdown",
      "source":[
        "# numpy.linalg"
      ],
      "metadata":{
        
      }
    },
    {
      "cell_type":"code",
      "source":[
        "# has a standard set of matrix decompositions and things like inverse\n",
        "# and determinant. These are implemented under the hood via the same industrystandard linear algebra libraries used in other languages like MATLAB and R, such as\n",
        "# BLAS, LAPACK, or possibly (depending on your NumPy build) the proprietary Intel\n",
        "# MKL (Math Kernel Library):"
      ],
      "execution_count":null,
      "outputs":[
        
      ],
      "metadata":{
        
      }
    },
    {
      "cell_type":"code",
      "source":[
        "from numpy.linalg import inv, qr"
      ],
      "execution_count":null,
      "outputs":[
        
      ],
      "metadata":{
        
      }
    },
    {
      "cell_type":"code",
      "source":[
        "X = np.array((np.random.randn(5, 5)*10),dtype='int32')\n",
        "X"
      ],
      "execution_count":null,
      "outputs":[
        
      ],
      "metadata":{
        
      }
    },
    {
      "cell_type":"code",
      "source":[
        "inv(X)"
      ],
      "execution_count":null,
      "outputs":[
        
      ],
      "metadata":{
        
      }
    },
    {
      "cell_type":"markdown",
      "source":[
        "The expression X.T.dot(X) computes the dot product of X with its transpose X.T."
      ],
      "metadata":{
        
      }
    },
    {
      "cell_type":"code",
      "source":[
        "mat = X.T.dot(X)\n",
        "mat"
      ],
      "execution_count":null,
      "outputs":[
        
      ],
      "metadata":{
        
      }
    },
    {
      "cell_type":"code",
      "source":[
        "d3= np.arange(64).reshape(4,4,4)\n",
        "d3"
      ],
      "execution_count":null,
      "outputs":[
        
      ],
      "metadata":{
        
      }
    },
    {
      "cell_type":"code",
      "source":[
        "d3[2,:, :]"
      ],
      "execution_count":null,
      "outputs":[
        
      ],
      "metadata":{
        
      }
    },
    {
      "cell_type":"code",
      "source":[
        "d3[2,2,1:]"
      ],
      "execution_count":null,
      "outputs":[
        
      ],
      "metadata":{
        
      }
    },
    {
      "cell_type":"markdown",
      "source":[
        "![numpyLinAlg.png](attachment:numpyLinAlg.png)"
      ],
      "metadata":{
        
      }
    },
    {
      "cell_type":"markdown",
      "source":[
        "# Importing Image Data into NumPy Arrays\n",
        "\n",
        "# Introduction:\n",
        "In machine learning, Python uses image data in the form of a NumPy array, i.e., [Height, Width, Channel] format. To enhance the performance of the predictive model, we must know how to load and manipulate images. In Python, we can perform one task in different ways. We have options from Numpy to Pytorch and CUDA, depending on the complexity of the problem.\n",
        "\n",
        "By the end of this example, you will have hands-on experience with:\n",
        "\n",
        "- Manipulation of an image using the Pillow and NumPy libraries and saving it to your local system.\n",
        "\n",
        "- Loading and displaying an image using Matplotlib, OpenCV and Keras API\n",
        "\n",
        "- Converting the loaded images to the NumPy array and back\n",
        "\n",
        "\n",
        "- Reading images as arrays in Keras API and OpenCV"
      ],
      "metadata":{
        
      }
    },
    {
      "cell_type":"markdown",
      "source":[
        "# Pillow Library\n",
        "\n",
        "Pillow is a preferred image manipulation tool. Python version 2 used Python Image Library (PIL), and Python version 3 uses Pillow Python Library, an upgrade of PIL.\n",
        "\n",
        "You should first create a virtual environment in Anaconda for different projects. Make sure you have supporting packages like NumPy, SciPy, and Matplotlib to install in the virtual environment you create.\n",
        "\n",
        "Once you set up the packages, you can easily install Pillow using pip.\n",
        "\n",
        "              ##############################################\n",
        "                          pip install Pillow\n",
        "              ##############################################"
      ],
      "metadata":{
        
      }
    },
    {
      "cell_type":"code",
      "source":[
        "import PIL\n",
        "print('Pillow Version:', PIL.__version__)"
      ],
      "execution_count":null,
      "outputs":[
        
      ],
      "metadata":{
        
      }
    },
    {
      "cell_type":"code",
      "source":[
        "# load and show an image with Pillow\n",
        "from PIL import Image"
      ],
      "execution_count":null,
      "outputs":[
        
      ],
      "metadata":{
        
      }
    },
    {
      "cell_type":"code",
      "source":[
        "# Open the image form working directory\n",
        "image = Image.open('nasir.jpg')\n",
        "\n",
        "image"
      ],
      "execution_count":null,
      "outputs":[
        
      ],
      "metadata":{
        
      }
    },
    {
      "cell_type":"code",
      "source":[
        "# summarize some details about the image\n",
        "print(image.format)\n",
        "print(image.size)\n",
        "print(image.mode)"
      ],
      "execution_count":null,
      "outputs":[
        
      ],
      "metadata":{
        
      }
    },
    {
      "cell_type":"code",
      "source":[
        "# show the image\n",
        "image"
      ],
      "execution_count":null,
      "outputs":[
        
      ],
      "metadata":{
        
      }
    },
    {
      "cell_type":"code",
      "source":[
        "type(image)"
      ],
      "execution_count":null,
      "outputs":[
        
      ],
      "metadata":{
        
      }
    },
    {
      "cell_type":"markdown",
      "source":[
        "# converting image into numpy array"
      ],
      "metadata":{
        
      }
    },
    {
      "cell_type":"code",
      "source":[
        "imgarray = np.asarray(image)"
      ],
      "execution_count":null,
      "outputs":[
        
      ],
      "metadata":{
        
      }
    },
    {
      "cell_type":"code",
      "source":[
        "type(imgarray)"
      ],
      "execution_count":null,
      "outputs":[
        
      ],
      "metadata":{
        
      }
    },
    {
      "cell_type":"code",
      "source":[
        "imgarray.shape   # width, height, channnels(rgb)"
      ],
      "execution_count":null,
      "outputs":[
        
      ],
      "metadata":{
        
      }
    },
    {
      "cell_type":"code",
      "source":[
        "imgarray"
      ],
      "execution_count":null,
      "outputs":[
        
      ],
      "metadata":{
        
      }
    },
    {
      "cell_type":"code",
      "source":[
        "imgarray.ravel().shape"
      ],
      "execution_count":null,
      "outputs":[
        
      ],
      "metadata":{
        
      }
    },
    {
      "cell_type":"markdown",
      "source":[
        "# load and display an image with Matplotlib"
      ],
      "metadata":{
        
      }
    },
    {
      "cell_type":"code",
      "source":[
        "# load and display an image with Matplotlib\n",
        "from matplotlib import image\n",
        "from matplotlib import pyplot"
      ],
      "execution_count":null,
      "outputs":[
        
      ],
      "metadata":{
        
      }
    },
    {
      "cell_type":"code",
      "source":[
        "# load image as pixel array\n",
        "img = image.imread('nasir.jpg')\n",
        "img"
      ],
      "execution_count":null,
      "outputs":[
        
      ],
      "metadata":{
        
      }
    },
    {
      "cell_type":"code",
      "source":[
        "# summarize shape of the pixel array\n",
        "print(img.dtype)\n",
        "print(img.shape)"
      ],
      "execution_count":null,
      "outputs":[
        
      ],
      "metadata":{
        
      }
    },
    {
      "cell_type":"code",
      "source":[
        "# display the array of pixels as an image\n",
        "pyplot.imshow(img)\n",
        "pyplot.show()"
      ],
      "execution_count":null,
      "outputs":[
        
      ],
      "metadata":{
        
      }
    },
    {
      "cell_type":"markdown",
      "source":[
        "# Manipulating and Saving the Image"
      ],
      "metadata":{
        
      }
    },
    {
      "cell_type":"markdown",
      "source":[
        "Now that we have converted our image into a Numpy array, we might come across a case where we need to do some manipulations on an image before using it into the desired model. In this section, you will be able to build a grayscale converter. You can also resize the array of the pixel image and trim it.\n",
        "\n",
        "After performing the manipulations, it is important to save the image before performing further steps. The format argument saves the file in different formats, such as PNG, GIF, or PEG.\n",
        "\n",
        "For example, the code below loads the photograph in JPEG format and saves it in PNG format."
      ],
      "metadata":{
        
      }
    },
    {
      "cell_type":"code",
      "source":[
        "import numpy as np\n",
        "from PIL import Image\n",
        "\n",
        "myImg = Image.open('nasir.jpg')\n",
        "myImg = myImg.convert('L')\n",
        "myImg = np.array(myImg)\n",
        "#myImg = np.array(Image.open('kolala.jpeg').convert())\n",
        "\n",
        "print(type(myImg))\n",
        "\n",
        "gr_im= Image.fromarray(myImg).save('gr_nasir.png')\n",
        "gr_im"
      ],
      "execution_count":null,
      "outputs":[
        
      ],
      "metadata":{
        
      }
    },
    {
      "cell_type":"markdown",
      "source":[
        "study link: https:\/\/machinelearningmastery.com\/how-to-load-and-manipulate-images-for-deep-learning-in-python-with-pil-pillow\/"
      ],
      "metadata":{
        
      }
    },
    {
      "cell_type":"markdown",
      "source":[
        "study link: https:\/\/www.geeksforgeeks.org\/how-to-convert-images-to-numpy-array\/"
      ],
      "metadata":{
        
      }
    },
    {
      "cell_type":"code",
      "source":[
        
      ],
      "execution_count":null,
      "outputs":[
        
      ],
      "metadata":{
        
      }
    }
  ],
  "metadata":{
    
  },
  "nbformat":4,
  "nbformat_minor":0
}