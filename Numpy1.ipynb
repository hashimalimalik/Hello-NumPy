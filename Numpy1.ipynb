{
  "cells":[
    {
      "cell_type":"markdown",
      "source":[
        "# NumPy, \n",
        "short for Numerical Python, is one of the most important foundational packages for numerical computing in Python. Most computational packages providing scientific functionality use NumPy’s array objects as the lingua franca for data exchange."
      ],
      "metadata":{
        
      }
    },
    {
      "cell_type":"markdown",
      "source":[
        "# Benefits and characteristics of NumPy arrays\n",
        "NumPy arrays have several advantages over Python lists. These benefits are focused\n",
        "on providing high-performance manipulation of sequences of homogenous data\n",
        "items. Several of these benefits are as follows:\n",
        "\n",
        "• Contiguous allocation in memory\n",
        "\n",
        "• Vectorized operations\n",
        "\n",
        "• Boolean selection\n",
        "\n",
        "• Sliceability"
      ],
      "metadata":{
        
      }
    },
    {
      "cell_type":"markdown",
      "source":[
        "# Contiguous allocation in memory:\n",
        "provides benefits in performance by ensuring that\n",
        "all elements of an array are directly accessible at a fixed offset from the beginning\n",
        "of the array. This also is a computer organization technique that facilities providing\n",
        "vectorized operations across arrays."
      ],
      "metadata":{
        
      }
    },
    {
      "cell_type":"markdown",
      "source":[
        "# Vectorized operation:\n",
        "is a technique of applying an operation across all or a subset\n",
        "of elements without explicit coding of loops. Vectorized operations are often orders\n",
        "of magnitude more efficient in execution as compared to loops implemented in a\n",
        "higher-level language. They are also excellent for reducing the amount of code that\n",
        "needs to be written, which also helps in minimizing coding errors."
      ],
      "metadata":{
        
      }
    },
    {
      "cell_type":"markdown",
      "source":[
        "# Boolean selection:\n",
        "is a common pattern that we will see with NumPy and pandas\n",
        "where selection of elements from an array is based on specific logical criteria. This\n",
        "consists of calculating an array of Boolean values where True represents that the\n",
        "given item should be in the result set. This array can then be used to efficiently select\n",
        "the matching items."
      ],
      "metadata":{
        
      }
    },
    {
      "cell_type":"markdown",
      "source":[
        "# Sliceability\n",
        "provides the programmer with a very efficient means to specify multiple\n",
        "elements in an array using a convenient notation. Slicing becomes invaluable when\n",
        "working with data in an ad hoc manner. The slicing process also benefits from being\n",
        "able to take advantage of the contiguous memory allocation of arrays to optimize\n",
        "access to series of items."
      ],
      "metadata":{
        
      }
    },
    {
      "cell_type":"markdown",
      "source":[
        "# Example:\n",
        "to see the benefits of Contimuous Allocation of memory and Vectorize operation.\n",
        "The following example calculates the time required by the for loop in Python to square a list consisting of 100,000 sequential integers:"
      ],
      "metadata":{
        
      }
    },
    {
      "cell_type":"code",
      "source":[
        "def squares(values):\n",
        "    result = []\n",
        "    for v in values:\n",
        "        result.append(v * v)\n",
        "    return result"
      ],
      "execution_count":1,
      "outputs":[
        
      ],
      "metadata":{
        
      }
    },
    {
      "cell_type":"code",
      "source":[
        "to_square = range(100000)"
      ],
      "execution_count":2,
      "outputs":[
        
      ],
      "metadata":{
        
      }
    },
    {
      "cell_type":"markdown",
      "source":[
        "# time how long it takes to repeatedly square them all"
      ],
      "metadata":{
        
      }
    },
    {
      "cell_type":"code",
      "source":[
        "%timeit squares(to_square)"
      ],
      "execution_count":3,
      "outputs":[
        {
          "name":"stdout",
          "text":[
            "23 ms ± 1.64 ms per loop (mean ± std. dev. of 7 runs, 10 loops each)\n"
          ],
          "output_type":"stream"
        }
      ],
      "metadata":{
        
      }
    },
    {
      "cell_type":"markdown",
      "source":[
        "# Using NumPy and vectorized arrays:\n",
        "The example can be rewritten as follows"
      ],
      "metadata":{
        
      }
    },
    {
      "cell_type":"code",
      "source":[
        "import numpy as np\n",
        "# now lets do this with a numpy array\n",
        "array_to_square = np.arange(0, 100000)\n",
        "\n",
        "\n",
        "# and time using a vectorized operation\n",
        "%timeit array_to_square ** 2"
      ],
      "execution_count":4,
      "outputs":[
        {
          "name":"stdout",
          "text":[
            "83.4 µs ± 2.08 µs per loop (mean ± std. dev. of 7 runs, 10000 loops each)\n"
          ],
          "output_type":"stream"
        }
      ],
      "metadata":{
        
      }
    },
    {
      "cell_type":"markdown",
      "source":[
        "# Creating NumPy arrays and performing basic array operations"
      ],
      "metadata":{
        
      }
    },
    {
      "cell_type":"code",
      "source":[
        "# # methods 1\n",
        "\n",
        "# A NumPy array can be created using multiple techniques. The following code creates a new NumPy array object from a Python list:"
      ],
      "execution_count":5,
      "outputs":[
        
      ],
      "metadata":{
        
      }
    },
    {
      "cell_type":"code",
      "source":[
        "arr1 = np.array([11, 22, 33, 44, 55])\n",
        "arr1"
      ],
      "execution_count":6,
      "outputs":[
        {
          "data":{
            "text\/plain":[
              "array([11, 22, 33, 44, 55])"
            ]
          },
          "metadata":{
            
          },
          "output_type":"display_data"
        }
      ],
      "metadata":{
        
      }
    },
    {
      "cell_type":"code",
      "source":[
        "# We can find the type of array, size of array, shape or array and dtype of elements "
      ],
      "execution_count":7,
      "outputs":[
        
      ],
      "metadata":{
        
      }
    },
    {
      "cell_type":"code",
      "source":[
        "type(arr1)"
      ],
      "execution_count":8,
      "outputs":[
        {
          "data":{
            "text\/plain":[
              "numpy.ndarray"
            ]
          },
          "metadata":{
            
          },
          "output_type":"display_data"
        }
      ],
      "metadata":{
        
      }
    },
    {
      "cell_type":"code",
      "source":[
        "np.size(arr1)"
      ],
      "execution_count":9,
      "outputs":[
        {
          "data":{
            "text\/plain":[
              "5"
            ]
          },
          "metadata":{
            
          },
          "output_type":"display_data"
        }
      ],
      "metadata":{
        
      }
    },
    {
      "cell_type":"code",
      "source":[
        "arr1.dtype"
      ],
      "execution_count":10,
      "outputs":[
        {
          "data":{
            "text\/plain":[
              "dtype('int64')"
            ]
          },
          "metadata":{
            
          },
          "output_type":"display_data"
        }
      ],
      "metadata":{
        
      }
    },
    {
      "cell_type":"code",
      "source":[
        "testArr = np.array([1,2,3,4,5.2])\n",
        "testArr"
      ],
      "execution_count":11,
      "outputs":[
        {
          "data":{
            "text\/plain":[
              "array([1. , 2. , 3. , 4. , 5.2])"
            ]
          },
          "metadata":{
            
          },
          "output_type":"display_data"
        }
      ],
      "metadata":{
        
      }
    },
    {
      "cell_type":"code",
      "source":[
        "arr1.ndim #returns the dimenssion of the array either it is 1d, 2d, 3d or nd"
      ],
      "execution_count":12,
      "outputs":[
        {
          "data":{
            "text\/plain":[
              "1"
            ]
          },
          "metadata":{
            
          },
          "output_type":"display_data"
        }
      ],
      "metadata":{
        
      }
    },
    {
      "cell_type":"markdown",
      "source":[
        "1d array =[1,2,3]>>> vector dimension>>1\n",
        "2d array = [[1,2,3],[2,3,4]]>>matrix\/tensor >>2"
      ],
      "metadata":{
        
      }
    },
    {
      "cell_type":"code",
      "source":[
        "# # method 2\n",
        "\n",
        "# We can create a python range into numpyy array"
      ],
      "execution_count":13,
      "outputs":[
        
      ],
      "metadata":{
        
      }
    },
    {
      "cell_type":"code",
      "source":[
        "np.array(range(10))"
      ],
      "execution_count":14,
      "outputs":[
        {
          "data":{
            "text\/plain":[
              "array([0, 1, 2, 3, 4, 5, 6, 7, 8, 9])"
            ]
          },
          "metadata":{
            
          },
          "output_type":"display_data"
        }
      ],
      "metadata":{
        
      }
    },
    {
      "cell_type":"code",
      "source":[
        "np.shape(arr1)"
      ],
      "execution_count":15,
      "outputs":[
        {
          "data":{
            "text\/plain":[
              "(5,)"
            ]
          },
          "metadata":{
            
          },
          "output_type":"display_data"
        }
      ],
      "metadata":{
        
      }
    },
    {
      "cell_type":"code",
      "source":[
        "# # method 3\n",
        "\n",
        "# make \"a range\" starting at 0 and with 10 values np.arange(0, 10)"
      ],
      "execution_count":16,
      "outputs":[
        
      ],
      "metadata":{
        
      }
    },
    {
      "cell_type":"code",
      "source":[
        "np.arange(10)"
      ],
      "execution_count":17,
      "outputs":[
        {
          "data":{
            "text\/plain":[
              "array([0, 1, 2, 3, 4, 5, 6, 7, 8, 9])"
            ]
          },
          "metadata":{
            
          },
          "output_type":"display_data"
        }
      ],
      "metadata":{
        
      }
    },
    {
      "cell_type":"code",
      "source":[
        "# 0 <= x < 10 increment by two\n",
        "np.arange(0, 10, 2)  #starting, numberofvalues, step"
      ],
      "execution_count":18,
      "outputs":[
        {
          "data":{
            "text\/plain":[
              "array([0, 2, 4, 6, 8])"
            ]
          },
          "metadata":{
            
          },
          "output_type":"display_data"
        }
      ],
      "metadata":{
        
      }
    },
    {
      "cell_type":"code",
      "source":[
        "# 10 >= x > 0, counting down\n",
        "np.arange(10, 0, -1)"
      ],
      "execution_count":19,
      "outputs":[
        {
          "data":{
            "text\/plain":[
              "array([10,  9,  8,  7,  6,  5,  4,  3,  2,  1])"
            ]
          },
          "metadata":{
            
          },
          "output_type":"display_data"
        }
      ],
      "metadata":{
        
      }
    },
    {
      "cell_type":"code",
      "source":[
        "# evenly spaced #'s between two intervals\n",
        "np.linspace(0, 10, 20)"
      ],
      "execution_count":20,
      "outputs":[
        {
          "data":{
            "text\/plain":[
              "array([ 0.        ,  0.52631579,  1.05263158,  1.57894737,  2.10526316,\n",
              "        2.63157895,  3.15789474,  3.68421053,  4.21052632,  4.73684211,\n",
              "        5.26315789,  5.78947368,  6.31578947,  6.84210526,  7.36842105,\n",
              "        7.89473684,  8.42105263,  8.94736842,  9.47368421, 10.        ])"
            ]
          },
          "metadata":{
            
          },
          "output_type":"display_data"
        }
      ],
      "metadata":{
        
      }
    },
    {
      "cell_type":"markdown",
      "source":[
        "# Array creation functions"
      ],
      "metadata":{
        
      }
    },
    {
      "cell_type":"markdown",
      "source":[
        "![NumpyArrayCreationFunctions.png](attachment:NumpyArrayCreationFunctions.png)"
      ],
      "metadata":{
        
      }
    },
    {
      "cell_type":"markdown",
      "source":[
        "# Expicitly Convert \/Cast Data type of ndarray"
      ],
      "metadata":{
        
      }
    },
    {
      "cell_type":"code",
      "source":[
        "int_arr = np.array([100, 200, 300, 400, 500])\n",
        "int_arr.dtype"
      ],
      "execution_count":21,
      "outputs":[
        {
          "data":{
            "text\/plain":[
              "dtype('int64')"
            ]
          },
          "metadata":{
            
          },
          "output_type":"display_data"
        }
      ],
      "metadata":{
        
      }
    },
    {
      "cell_type":"code",
      "source":[
        "float_arr = int_arr.astype(np.float64)\n",
        "float_arr.dtype"
      ],
      "execution_count":22,
      "outputs":[
        {
          "data":{
            "text\/plain":[
              "dtype('float64')"
            ]
          },
          "metadata":{
            
          },
          "output_type":"display_data"
        }
      ],
      "metadata":{
        
      }
    },
    {
      "cell_type":"markdown",
      "source":[
        "# Note:\n",
        "Casting floating point into integer data type will truncate the decimal part"
      ],
      "metadata":{
        
      }
    },
    {
      "cell_type":"code",
      "source":[
        "arr2 = np.array([3.7, -1.2, -2.6, 0.5, 12.9, 10.1])\n",
        "arr2"
      ],
      "execution_count":23,
      "outputs":[
        {
          "data":{
            "text\/plain":[
              "array([ 3.7, -1.2, -2.6,  0.5, 12.9, 10.1])"
            ]
          },
          "metadata":{
            
          },
          "output_type":"display_data"
        }
      ],
      "metadata":{
        
      }
    },
    {
      "cell_type":"code",
      "source":[
        "arr3 = arr2.astype(np.int32)\n",
        "arr3"
      ],
      "execution_count":24,
      "outputs":[
        {
          "data":{
            "text\/plain":[
              "array([ 3, -1, -2,  0, 12, 10], dtype=int32)"
            ]
          },
          "metadata":{
            
          },
          "output_type":"display_data"
        }
      ],
      "metadata":{
        
      }
    },
    {
      "cell_type":"markdown",
      "source":[
        "# Arithmetic with NumPy Arrays"
      ],
      "metadata":{
        
      }
    },
    {
      "cell_type":"markdown",
      "source":[
        "NumPy arrays will vectorize many mathematical operators. The following example\n",
        "creates a 10-element array and then multiplies each element by a constant:"
      ],
      "metadata":{
        
      }
    },
    {
      "cell_type":"code",
      "source":[
        "# multiply numpy array by 2\n",
        "a1 = np.arange(0, 10)\n",
        "a1 * 2"
      ],
      "execution_count":25,
      "outputs":[
        {
          "data":{
            "text\/plain":[
              "array([ 0,  2,  4,  6,  8, 10, 12, 14, 16, 18])"
            ]
          },
          "metadata":{
            
          },
          "output_type":"display_data"
        }
      ],
      "metadata":{
        
      }
    },
    {
      "cell_type":"code",
      "source":[
        "# add two numpy arrays\n",
        "a2 = np.arange(10, 20)\n",
        "a1 + a2"
      ],
      "execution_count":26,
      "outputs":[
        {
          "data":{
            "text\/plain":[
              "array([10, 12, 14, 16, 18, 20, 22, 24, 26, 28])"
            ]
          },
          "metadata":{
            
          },
          "output_type":"display_data"
        }
      ],
      "metadata":{
        
      }
    },
    {
      "cell_type":"markdown",
      "source":[
        "# Accessing 1-D array elements:"
      ],
      "metadata":{
        
      }
    },
    {
      "cell_type":"code",
      "source":[
        "a2[0]"
      ],
      "execution_count":27,
      "outputs":[
        {
          "data":{
            "text\/plain":[
              "10"
            ]
          },
          "metadata":{
            
          },
          "output_type":"display_data"
        }
      ],
      "metadata":{
        
      }
    },
    {
      "cell_type":"code",
      "source":[
        "a2[-1]"
      ],
      "execution_count":28,
      "outputs":[
        {
          "data":{
            "text\/plain":[
              "19"
            ]
          },
          "metadata":{
            
          },
          "output_type":"display_data"
        }
      ],
      "metadata":{
        
      }
    },
    {
      "cell_type":"code",
      "source":[
        "# select 0-based elements 0 and 2\n",
        "a1[0], a1[2]"
      ],
      "execution_count":29,
      "outputs":[
        {
          "data":{
            "text\/plain":[
              "(0, 2)"
            ]
          },
          "metadata":{
            
          },
          "output_type":"display_data"
        }
      ],
      "metadata":{
        
      }
    },
    {
      "cell_type":"markdown",
      "source":[
        "# 2d numpy Array"
      ],
      "metadata":{
        
      }
    },
    {
      "cell_type":"code",
      "source":[
        "# Creating a 2d array by python list "
      ],
      "execution_count":30,
      "outputs":[
        
      ],
      "metadata":{
        
      }
    },
    {
      "cell_type":"code",
      "source":[
        "arr2d = np.array([[1,2,3,4,5,6], [11,22,33,44,55,66]])\n",
        "arr2d"
      ],
      "execution_count":31,
      "outputs":[
        {
          "data":{
            "text\/plain":[
              "array([[ 1,  2,  3,  4,  5,  6],\n",
              "       [11, 22, 33, 44, 55, 66]])"
            ]
          },
          "metadata":{
            
          },
          "output_type":"display_data"
        }
      ],
      "metadata":{
        
      }
    },
    {
      "cell_type":"markdown",
      "source":[
        "A more convenient and efficient means is to use the NumPy array's \n",
        "\n",
        "       >>> np.reshape()<<<<\n",
        "       \n",
        "method to reorganize a one-dimensional array into two dimensions."
      ],
      "metadata":{
        
      }
    },
    {
      "cell_type":"code",
      "source":[
        "arr1d = np.arange(20)\n",
        "arr1d"
      ],
      "execution_count":32,
      "outputs":[
        {
          "data":{
            "text\/plain":[
              "array([ 0,  1,  2,  3,  4,  5,  6,  7,  8,  9, 10, 11, 12, 13, 14, 15, 16,\n",
              "       17, 18, 19])"
            ]
          },
          "metadata":{
            
          },
          "output_type":"display_data"
        }
      ],
      "metadata":{
        
      }
    },
    {
      "cell_type":"code",
      "source":[
        "arr2d = arr1d.reshape(4,5)\n",
        "arr2d"
      ],
      "execution_count":33,
      "outputs":[
        {
          "data":{
            "text\/plain":[
              "array([[ 0,  1,  2,  3,  4],\n",
              "       [ 5,  6,  7,  8,  9],\n",
              "       [10, 11, 12, 13, 14],\n",
              "       [15, 16, 17, 18, 19]])"
            ]
          },
          "metadata":{
            
          },
          "output_type":"display_data"
        }
      ],
      "metadata":{
        
      }
    },
    {
      "cell_type":"code",
      "source":[
        "arr2d = np.arange(20).reshape(4,5)\n",
        "arr2d"
      ],
      "execution_count":34,
      "outputs":[
        {
          "data":{
            "text\/plain":[
              "array([[ 0,  1,  2,  3,  4],\n",
              "       [ 5,  6,  7,  8,  9],\n",
              "       [10, 11, 12, 13, 14],\n",
              "       [15, 16, 17, 18, 19]])"
            ]
          },
          "metadata":{
            
          },
          "output_type":"display_data"
        }
      ],
      "metadata":{
        
      }
    },
    {
      "cell_type":"code",
      "source":[
        "# size of any dimensional array is the # of elements\n",
        "np.size(arr2d)"
      ],
      "execution_count":35,
      "outputs":[
        {
          "data":{
            "text\/plain":[
              "20"
            ]
          },
          "metadata":{
            
          },
          "output_type":"display_data"
        }
      ],
      "metadata":{
        
      }
    },
    {
      "cell_type":"code",
      "source":[
        "# can ask the size along a given axis (0 is rows)\n",
        "np.size(arr2d, 0)"
      ],
      "execution_count":36,
      "outputs":[
        {
          "data":{
            "text\/plain":[
              "4"
            ]
          },
          "metadata":{
            
          },
          "output_type":"display_data"
        }
      ],
      "metadata":{
        
      }
    },
    {
      "cell_type":"code",
      "source":[
        "# and 1 is the columns\n",
        "np.size(arr2d, 1)"
      ],
      "execution_count":37,
      "outputs":[
        {
          "data":{
            "text\/plain":[
              "5"
            ]
          },
          "metadata":{
            
          },
          "output_type":"display_data"
        }
      ],
      "metadata":{
        
      }
    },
    {
      "cell_type":"code",
      "source":[
        "arr2d.shape"
      ],
      "execution_count":38,
      "outputs":[
        {
          "data":{
            "text\/plain":[
              "(4, 5)"
            ]
          },
          "metadata":{
            
          },
          "output_type":"display_data"
        }
      ],
      "metadata":{
        
      }
    },
    {
      "cell_type":"code",
      "source":[
        "# a 2d array again can be reshaped to 1d"
      ],
      "execution_count":39,
      "outputs":[
        
      ],
      "metadata":{
        
      }
    },
    {
      "cell_type":"code",
      "source":[
        "# arr1d = arr2d.reshape(20)  # in this way we need to know how many elements are there in original array\n",
        "# print(arr1d)                      # we are open to reshape to any dimension either 1d or other\n",
        "\n",
        "print(\"======================================================\")\n",
        "# reshaping a 2darray to 3darray\n",
        "arr2d = np.arange(64).reshape(8,8)\n",
        "\n",
        "print(arr2d)\n",
        "\n",
        "print(\"============================\")\n",
        "arr3d = arr2d.reshape(2,4,8)  #(depth, rows,columns)\n",
        "arr3d"
      ],
      "execution_count":40,
      "outputs":[
        {
          "name":"stdout",
          "text":[
            "======================================================\n",
            "[[ 0  1  2  3  4  5  6  7]\n",
            " [ 8  9 10 11 12 13 14 15]\n",
            " [16 17 18 19 20 21 22 23]\n",
            " [24 25 26 27 28 29 30 31]\n",
            " [32 33 34 35 36 37 38 39]\n",
            " [40 41 42 43 44 45 46 47]\n",
            " [48 49 50 51 52 53 54 55]\n",
            " [56 57 58 59 60 61 62 63]]\n",
            "============================\n"
          ],
          "output_type":"stream"
        },
        {
          "data":{
            "text\/plain":[
              "array([[[ 0,  1,  2,  3,  4,  5,  6,  7],\n",
              "        [ 8,  9, 10, 11, 12, 13, 14, 15],\n",
              "        [16, 17, 18, 19, 20, 21, 22, 23],\n",
              "        [24, 25, 26, 27, 28, 29, 30, 31]],\n",
              "\n",
              "       [[32, 33, 34, 35, 36, 37, 38, 39],\n",
              "        [40, 41, 42, 43, 44, 45, 46, 47],\n",
              "        [48, 49, 50, 51, 52, 53, 54, 55],\n",
              "        [56, 57, 58, 59, 60, 61, 62, 63]]])"
            ]
          },
          "metadata":{
            
          },
          "output_type":"display_data"
        }
      ],
      "metadata":{
        
      }
    },
    {
      "cell_type":"code",
      "source":[
        "# #             >>>>>np.ravel()>>>>>\n",
        "# is another methods but it direclty converts the array to 1d only"
      ],
      "execution_count":41,
      "outputs":[
        
      ],
      "metadata":{
        
      }
    },
    {
      "cell_type":"code",
      "source":[
        "raveled_arr1d = arr2d.ravel()\n",
        "raveled_arr1d"
      ],
      "execution_count":42,
      "outputs":[
        {
          "data":{
            "text\/plain":[
              "array([ 0,  1,  2,  3,  4,  5,  6,  7,  8,  9, 10, 11, 12, 13, 14, 15, 16,\n",
              "       17, 18, 19, 20, 21, 22, 23, 24, 25, 26, 27, 28, 29, 30, 31, 32, 33,\n",
              "       34, 35, 36, 37, 38, 39, 40, 41, 42, 43, 44, 45, 46, 47, 48, 49, 50,\n",
              "       51, 52, 53, 54, 55, 56, 57, 58, 59, 60, 61, 62, 63])"
            ]
          },
          "metadata":{
            
          },
          "output_type":"display_data"
        }
      ],
      "metadata":{
        
      }
    },
    {
      "cell_type":"code",
      "source":[
        "#                             >>>>>>>>np.ravel() and np.reshape()<<<<<<<<<"
      ],
      "execution_count":43,
      "outputs":[
        
      ],
      "metadata":{
        
      }
    },
    {
      "cell_type":"code",
      "source":[
        "# Even though .reshape() and .ravel() do not change the shape of the original\n",
        "# array or matrix, they do actually return a one-dimensional view into the specified\n",
        "# array or matrix. If you change an element in this view, the value in the original array\n",
        "# or matrix is changed. The following example demonstrates this ability to change\n",
        "# items of the original matrix through the view:"
      ],
      "execution_count":44,
      "outputs":[
        
      ],
      "metadata":{
        
      }
    },
    {
      "cell_type":"code",
      "source":[
        "raveled_arr1d[0]=999\n",
        "raveled_arr1d"
      ],
      "execution_count":45,
      "outputs":[
        {
          "data":{
            "text\/plain":[
              "array([999,   1,   2,   3,   4,   5,   6,   7,   8,   9,  10,  11,  12,\n",
              "        13,  14,  15,  16,  17,  18,  19,  20,  21,  22,  23,  24,  25,\n",
              "        26,  27,  28,  29,  30,  31,  32,  33,  34,  35,  36,  37,  38,\n",
              "        39,  40,  41,  42,  43,  44,  45,  46,  47,  48,  49,  50,  51,\n",
              "        52,  53,  54,  55,  56,  57,  58,  59,  60,  61,  62,  63])"
            ]
          },
          "metadata":{
            
          },
          "output_type":"display_data"
        }
      ],
      "metadata":{
        
      }
    },
    {
      "cell_type":"code",
      "source":[
        "arr2d  # array shows the effect of change in ravel"
      ],
      "execution_count":46,
      "outputs":[
        {
          "data":{
            "text\/plain":[
              "array([[999,   1,   2,   3,   4,   5,   6,   7],\n",
              "       [  8,   9,  10,  11,  12,  13,  14,  15],\n",
              "       [ 16,  17,  18,  19,  20,  21,  22,  23],\n",
              "       [ 24,  25,  26,  27,  28,  29,  30,  31],\n",
              "       [ 32,  33,  34,  35,  36,  37,  38,  39],\n",
              "       [ 40,  41,  42,  43,  44,  45,  46,  47],\n",
              "       [ 48,  49,  50,  51,  52,  53,  54,  55],\n",
              "       [ 56,  57,  58,  59,  60,  61,  62,  63]])"
            ]
          },
          "metadata":{
            
          },
          "output_type":"display_data"
        }
      ],
      "metadata":{
        
      }
    },
    {
      "cell_type":"code",
      "source":[
        "array2d = np.arange(9).reshape(3,3)\n",
        "array2d"
      ],
      "execution_count":47,
      "outputs":[
        {
          "data":{
            "text\/plain":[
              "array([[0, 1, 2],\n",
              "       [3, 4, 5],\n",
              "       [6, 7, 8]])"
            ]
          },
          "metadata":{
            
          },
          "output_type":"display_data"
        }
      ],
      "metadata":{
        
      }
    },
    {
      "cell_type":"code",
      "source":[
        "array1d=array2d.reshape(9)\n",
        "array1d"
      ],
      "execution_count":48,
      "outputs":[
        {
          "data":{
            "text\/plain":[
              "array([0, 1, 2, 3, 4, 5, 6, 7, 8])"
            ]
          },
          "metadata":{
            
          },
          "output_type":"display_data"
        }
      ],
      "metadata":{
        
      }
    },
    {
      "cell_type":"code",
      "source":[
        "array1d[0]=777.0\n",
        "array1d"
      ],
      "execution_count":49,
      "outputs":[
        {
          "data":{
            "text\/plain":[
              "array([777,   1,   2,   3,   4,   5,   6,   7,   8])"
            ]
          },
          "metadata":{
            
          },
          "output_type":"display_data"
        }
      ],
      "metadata":{
        
      }
    },
    {
      "cell_type":"code",
      "source":[
        "array2d # show the change done in array1d coz array 1d is view of array2d"
      ],
      "execution_count":50,
      "outputs":[
        {
          "data":{
            "text\/plain":[
              "array([[777,   1,   2],\n",
              "       [  3,   4,   5],\n",
              "       [  6,   7,   8]])"
            ]
          },
          "metadata":{
            
          },
          "output_type":"display_data"
        }
      ],
      "metadata":{
        
      }
    },
    {
      "cell_type":"code",
      "source":[
        "# #             >>>>>np.flatten()>>>>>\n",
        "\n",
        "# is another methods but it direclty converts the array to 1d only. The .flatten() method functions similarly to .ravel() but instead returns a new\n",
        "# array with copied data instead of a view. Changes to the result do not change the\n",
        "# original matrix:"
      ],
      "execution_count":51,
      "outputs":[
        
      ],
      "metadata":{
        
      }
    },
    {
      "cell_type":"code",
      "source":[
        "array = np.arange(25).reshape(5,5)\n",
        "array"
      ],
      "execution_count":52,
      "outputs":[
        {
          "data":{
            "text\/plain":[
              "array([[ 0,  1,  2,  3,  4],\n",
              "       [ 5,  6,  7,  8,  9],\n",
              "       [10, 11, 12, 13, 14],\n",
              "       [15, 16, 17, 18, 19],\n",
              "       [20, 21, 22, 23, 24]])"
            ]
          },
          "metadata":{
            
          },
          "output_type":"display_data"
        }
      ],
      "metadata":{
        
      }
    },
    {
      "cell_type":"code",
      "source":[
        "flattened_array = array.flatten()\n",
        "flattened_array"
      ],
      "execution_count":53,
      "outputs":[
        {
          "data":{
            "text\/plain":[
              "array([ 0,  1,  2,  3,  4,  5,  6,  7,  8,  9, 10, 11, 12, 13, 14, 15, 16,\n",
              "       17, 18, 19, 20, 21, 22, 23, 24])"
            ]
          },
          "metadata":{
            
          },
          "output_type":"display_data"
        }
      ],
      "metadata":{
        
      }
    },
    {
      "cell_type":"code",
      "source":[
        "flattened_array[0]=555\n",
        "flattened_array"
      ],
      "execution_count":54,
      "outputs":[
        {
          "data":{
            "text\/plain":[
              "array([555,   1,   2,   3,   4,   5,   6,   7,   8,   9,  10,  11,  12,\n",
              "        13,  14,  15,  16,  17,  18,  19,  20,  21,  22,  23,  24])"
            ]
          },
          "metadata":{
            
          },
          "output_type":"display_data"
        }
      ],
      "metadata":{
        
      }
    },
    {
      "cell_type":"code",
      "source":[
        "array # there is no effect in original"
      ],
      "execution_count":55,
      "outputs":[
        {
          "data":{
            "text\/plain":[
              "array([[ 0,  1,  2,  3,  4],\n",
              "       [ 5,  6,  7,  8,  9],\n",
              "       [10, 11, 12, 13, 14],\n",
              "       [15, 16, 17, 18, 19],\n",
              "       [20, 21, 22, 23, 24]])"
            ]
          },
          "metadata":{
            
          },
          "output_type":"display_data"
        }
      ],
      "metadata":{
        
      }
    },
    {
      "cell_type":"markdown",
      "source":[
        "# np.resize() Danger!!!!"
      ],
      "metadata":{
        
      }
    },
    {
      "cell_type":"code",
      "source":[
        "# The .resize() method functions similarly to the .reshape() method, except\n",
        "# that while reshaping returns a new array with data copied into it, .resize()\n",
        "# performs an in-place reshaping of the array.:"
      ],
      "execution_count":56,
      "outputs":[
        
      ],
      "metadata":{
        
      }
    },
    {
      "cell_type":"code",
      "source":[
        "newarray = np.arange(0, 9).reshape(3,3)\n",
        "newarray"
      ],
      "execution_count":57,
      "outputs":[
        {
          "data":{
            "text\/plain":[
              "array([[0, 1, 2],\n",
              "       [3, 4, 5],\n",
              "       [6, 7, 8]])"
            ]
          },
          "metadata":{
            
          },
          "output_type":"display_data"
        }
      ],
      "metadata":{
        
      }
    },
    {
      "cell_type":"code",
      "source":[
        "resized = newarray.resize(1,9)\n",
        "resized  # it is returning none infact it changed the original data"
      ],
      "execution_count":58,
      "outputs":[
        
      ],
      "metadata":{
        
      }
    },
    {
      "cell_type":"code",
      "source":[
        "newarray"
      ],
      "execution_count":59,
      "outputs":[
        {
          "data":{
            "text\/plain":[
              "array([[0, 1, 2, 3, 4, 5, 6, 7, 8]])"
            ]
          },
          "metadata":{
            
          },
          "output_type":"display_data"
        }
      ],
      "metadata":{
        
      }
    },
    {
      "cell_type":"markdown",
      "source":[
        "# Basic Indexing and Slicing of Multidimensional Arrays"
      ],
      "metadata":{
        
      }
    },
    {
      "cell_type":"code",
      "source":[
        "ar2d = np.array([[1, 2, 3], [4, 5, 6], [7, 8, 9]])\n",
        "ar2d"
      ],
      "execution_count":60,
      "outputs":[
        {
          "data":{
            "text\/plain":[
              "array([[1, 2, 3],\n",
              "       [4, 5, 6],\n",
              "       [7, 8, 9]])"
            ]
          },
          "metadata":{
            
          },
          "output_type":"display_data"
        }
      ],
      "metadata":{
        
      }
    },
    {
      "cell_type":"markdown",
      "source":[
        "# Indexing:\n",
        "It is a process in which we target(access)indvidual or group of contagious values of ndarrays."
      ],
      "metadata":{
        
      }
    },
    {
      "cell_type":"code",
      "source":[
        "# accessing a complete row \n",
        "ar2d[2]"
      ],
      "execution_count":61,
      "outputs":[
        {
          "data":{
            "text\/plain":[
              "array([7, 8, 9])"
            ]
          },
          "metadata":{
            
          },
          "output_type":"display_data"
        }
      ],
      "metadata":{
        
      }
    },
    {
      "cell_type":"code",
      "source":[
        "# accessing a complete columns\n",
        "ar2d[:,1]"
      ],
      "execution_count":62,
      "outputs":[
        {
          "data":{
            "text\/plain":[
              "array([2, 5, 8])"
            ]
          },
          "metadata":{
            
          },
          "output_type":"display_data"
        }
      ],
      "metadata":{
        
      }
    },
    {
      "cell_type":"code",
      "source":[
        "# accessing an element of a 2d array\n",
        "d2array = np.arange(25).reshape(5,5)\n",
        "d2array"
      ],
      "execution_count":63,
      "outputs":[
        {
          "data":{
            "text\/plain":[
              "array([[ 0,  1,  2,  3,  4],\n",
              "       [ 5,  6,  7,  8,  9],\n",
              "       [10, 11, 12, 13, 14],\n",
              "       [15, 16, 17, 18, 19],\n",
              "       [20, 21, 22, 23, 24]])"
            ]
          },
          "metadata":{
            
          },
          "output_type":"display_data"
        }
      ],
      "metadata":{
        
      }
    },
    {
      "cell_type":"markdown",
      "source":[
        "![2daray.png](attachment:2daray.png)"
      ],
      "metadata":{
        
      }
    },
    {
      "cell_type":"code",
      "source":[
        "#d2array[2,2]\n",
        "d2array[2][2]"
      ],
      "execution_count":64,
      "outputs":[
        {
          "data":{
            "text\/plain":[
              "12"
            ]
          },
          "metadata":{
            
          },
          "output_type":"display_data"
        }
      ],
      "metadata":{
        
      }
    },
    {
      "cell_type":"markdown",
      "source":[
        "![2daray2.png](attachment:2daray2.png)"
      ],
      "metadata":{
        
      }
    },
    {
      "cell_type":"code",
      "source":[
        "d2array[0,3], d2array[1,2],d2array[2,4],d2array[4,1]"
      ],
      "execution_count":65,
      "outputs":[
        {
          "data":{
            "text\/plain":[
              "(3, 7, 14, 21)"
            ]
          },
          "metadata":{
            
          },
          "output_type":"display_data"
        }
      ],
      "metadata":{
        
      }
    },
    {
      "cell_type":"markdown",
      "source":[
        "# Structure  for indexing and slicing in a 2darray "
      ],
      "metadata":{
        
      }
    },
    {
      "cell_type":"markdown",
      "source":[
        "![2daray_struc.png](attachment:2daray_struc.png)"
      ],
      "metadata":{
        
      }
    },
    {
      "cell_type":"markdown",
      "source":[
        "![2daray3.png](attachment:2daray3.png)"
      ],
      "metadata":{
        
      }
    },
    {
      "cell_type":"code",
      "source":[
        "#Light Blue\n",
        "d2array[0:4,1:2]"
      ],
      "execution_count":66,
      "outputs":[
        {
          "data":{
            "text\/plain":[
              "array([[ 1],\n",
              "       [ 6],\n",
              "       [11],\n",
              "       [16]])"
            ]
          },
          "metadata":{
            
          },
          "output_type":"display_data"
        }
      ],
      "metadata":{
        
      }
    },
    {
      "cell_type":"code",
      "source":[
        "#yellow\n",
        "d2array[1:5,0:3]"
      ],
      "execution_count":67,
      "outputs":[
        {
          "data":{
            "text\/plain":[
              "array([[ 5,  6,  7],\n",
              "       [10, 11, 12],\n",
              "       [15, 16, 17],\n",
              "       [20, 21, 22]])"
            ]
          },
          "metadata":{
            
          },
          "output_type":"display_data"
        }
      ],
      "metadata":{
        
      }
    },
    {
      "cell_type":"code",
      "source":[
        "#blue\n",
        "d2array[0:2,-2:]"
      ],
      "execution_count":68,
      "outputs":[
        {
          "data":{
            "text\/plain":[
              "array([[3, 4],\n",
              "       [8, 9]])"
            ]
          },
          "metadata":{
            
          },
          "output_type":"display_data"
        }
      ],
      "metadata":{
        
      }
    },
    {
      "cell_type":"code",
      "source":[
        "#green\n",
        "d2array[3:,2:]"
      ],
      "execution_count":69,
      "outputs":[
        {
          "data":{
            "text\/plain":[
              "array([[17, 18, 19],\n",
              "       [22, 23, 24]])"
            ]
          },
          "metadata":{
            
          },
          "output_type":"display_data"
        }
      ],
      "metadata":{
        
      }
    },
    {
      "cell_type":"markdown",
      "source":[
        "![2dSlicing.png](attachment:2dSlicing.png)"
      ],
      "metadata":{
        
      }
    },
    {
      "cell_type":"markdown",
      "source":[
        "# Question:\n",
        "What is the difference between indexing and slicing ??"
      ],
      "metadata":{
        
      }
    },
    {
      "cell_type":"markdown",
      "source":[
        "# Indexing:\n",
        "Targets the element of the array. The returned is the individual vlaue or group of values having their own data types."
      ],
      "metadata":{
        
      }
    },
    {
      "cell_type":"code",
      "source":[
        "d2array"
      ],
      "execution_count":70,
      "outputs":[
        {
          "data":{
            "text\/plain":[
              "array([[ 0,  1,  2,  3,  4],\n",
              "       [ 5,  6,  7,  8,  9],\n",
              "       [10, 11, 12, 13, 14],\n",
              "       [15, 16, 17, 18, 19],\n",
              "       [20, 21, 22, 23, 24]])"
            ]
          },
          "metadata":{
            
          },
          "output_type":"display_data"
        }
      ],
      "metadata":{
        
      }
    },
    {
      "cell_type":"code",
      "source":[
        "d2array[4][2]   # returns and element of the array 22 that is int type "
      ],
      "execution_count":71,
      "outputs":[
        {
          "data":{
            "text\/plain":[
              "22"
            ]
          },
          "metadata":{
            
          },
          "output_type":"display_data"
        }
      ],
      "metadata":{
        
      }
    },
    {
      "cell_type":"markdown",
      "source":[
        "# Slicing:\n",
        "Gives the part of the array that have the same deimension(shape) as the full array has."
      ],
      "metadata":{
        
      }
    },
    {
      "cell_type":"code",
      "source":[
        "d2array[1:4,2:3]   # notice the brackets around 22 shows its not an element but a 2d array with one element 22."
      ],
      "execution_count":72,
      "outputs":[
        {
          "data":{
            "text\/plain":[
              "array([[ 7],\n",
              "       [12],\n",
              "       [17]])"
            ]
          },
          "metadata":{
            
          },
          "output_type":"display_data"
        }
      ],
      "metadata":{
        
      }
    },
    {
      "cell_type":"markdown",
      "source":[
        "# Combining array"
      ],
      "metadata":{
        
      }
    },
    {
      "cell_type":"markdown",
      "source":[
        "Arrays can be combined in various ways. This process in NumPy is referred to\n",
        "as stacking. Stacking can take various forms, including horizontal, vertical, and\n",
        "depth-wise stacking. To demonstrate this, we will use the following two arrays"
      ],
      "metadata":{
        
      }
    },
    {
      "cell_type":"markdown",
      "source":[
        "# Horizontal stacking"
      ],
      "metadata":{
        
      }
    },
    {
      "cell_type":"markdown",
      "source":[
        "Combines two arrays in a manner where the columns of the\n",
        "second array are placed to the right of those in the first array. The function actually\n",
        "stacks the two items provided in a two-element tuple. The result is a new array with\n",
        "data copied from the two that are specified:"
      ],
      "metadata":{
        
      }
    },
    {
      "cell_type":"code",
      "source":[
        "arr1 = np.arange(16).reshape(8,2)\n",
        "arr1"
      ],
      "execution_count":73,
      "outputs":[
        {
          "data":{
            "text\/plain":[
              "array([[ 0,  1],\n",
              "       [ 2,  3],\n",
              "       [ 4,  5],\n",
              "       [ 6,  7],\n",
              "       [ 8,  9],\n",
              "       [10, 11],\n",
              "       [12, 13],\n",
              "       [14, 15]])"
            ]
          },
          "metadata":{
            
          },
          "output_type":"display_data"
        }
      ],
      "metadata":{
        
      }
    },
    {
      "cell_type":"code",
      "source":[
        "arr2 = np.arange(16,56).reshape(8,5)\n",
        "arr2"
      ],
      "execution_count":74,
      "outputs":[
        {
          "data":{
            "text\/plain":[
              "array([[16, 17, 18, 19, 20],\n",
              "       [21, 22, 23, 24, 25],\n",
              "       [26, 27, 28, 29, 30],\n",
              "       [31, 32, 33, 34, 35],\n",
              "       [36, 37, 38, 39, 40],\n",
              "       [41, 42, 43, 44, 45],\n",
              "       [46, 47, 48, 49, 50],\n",
              "       [51, 52, 53, 54, 55]])"
            ]
          },
          "metadata":{
            
          },
          "output_type":"display_data"
        }
      ],
      "metadata":{
        
      }
    },
    {
      "cell_type":"code",
      "source":[
        "np.hstack((arr1, arr2))"
      ],
      "execution_count":75,
      "outputs":[
        {
          "data":{
            "text\/plain":[
              "array([[ 0,  1, 16, 17, 18, 19, 20],\n",
              "       [ 2,  3, 21, 22, 23, 24, 25],\n",
              "       [ 4,  5, 26, 27, 28, 29, 30],\n",
              "       [ 6,  7, 31, 32, 33, 34, 35],\n",
              "       [ 8,  9, 36, 37, 38, 39, 40],\n",
              "       [10, 11, 41, 42, 43, 44, 45],\n",
              "       [12, 13, 46, 47, 48, 49, 50],\n",
              "       [14, 15, 51, 52, 53, 54, 55]])"
            ]
          },
          "metadata":{
            
          },
          "output_type":"display_data"
        }
      ],
      "metadata":{
        
      }
    },
    {
      "cell_type":"markdown",
      "source":[
        "# Vertical Stacking\n",
        "Vertical stacking returns a new array with the contents of the second array as\n",
        "appended rows of the first array."
      ],
      "metadata":{
        
      }
    },
    {
      "cell_type":"code",
      "source":[
        "arr3 = np.arange(20).reshape(2,10)\n",
        "arr3"
      ],
      "execution_count":76,
      "outputs":[
        {
          "data":{
            "text\/plain":[
              "array([[ 0,  1,  2,  3,  4,  5,  6,  7,  8,  9],\n",
              "       [10, 11, 12, 13, 14, 15, 16, 17, 18, 19]])"
            ]
          },
          "metadata":{
            
          },
          "output_type":"display_data"
        }
      ],
      "metadata":{
        
      }
    },
    {
      "cell_type":"code",
      "source":[
        "arr4 = np.arange(20,60).reshape(4,10)\n",
        "arr4"
      ],
      "execution_count":77,
      "outputs":[
        {
          "data":{
            "text\/plain":[
              "array([[20, 21, 22, 23, 24, 25, 26, 27, 28, 29],\n",
              "       [30, 31, 32, 33, 34, 35, 36, 37, 38, 39],\n",
              "       [40, 41, 42, 43, 44, 45, 46, 47, 48, 49],\n",
              "       [50, 51, 52, 53, 54, 55, 56, 57, 58, 59]])"
            ]
          },
          "metadata":{
            
          },
          "output_type":"display_data"
        }
      ],
      "metadata":{
        
      }
    },
    {
      "cell_type":"code",
      "source":[
        "np.vstack((arr4,arr3))"
      ],
      "execution_count":78,
      "outputs":[
        {
          "data":{
            "text\/plain":[
              "array([[20, 21, 22, 23, 24, 25, 26, 27, 28, 29],\n",
              "       [30, 31, 32, 33, 34, 35, 36, 37, 38, 39],\n",
              "       [40, 41, 42, 43, 44, 45, 46, 47, 48, 49],\n",
              "       [50, 51, 52, 53, 54, 55, 56, 57, 58, 59],\n",
              "       [ 0,  1,  2,  3,  4,  5,  6,  7,  8,  9],\n",
              "       [10, 11, 12, 13, 14, 15, 16, 17, 18, 19]])"
            ]
          },
          "metadata":{
            
          },
          "output_type":"display_data"
        }
      ],
      "metadata":{
        
      }
    },
    {
      "cell_type":"markdown",
      "source":[
        "# Columns stacking "
      ],
      "metadata":{
        
      }
    },
    {
      "cell_type":"markdown",
      "source":[
        "# Row Stacking"
      ],
      "metadata":{
        
      }
    },
    {
      "cell_type":"markdown",
      "source":[
        "# Depth stacking\n",
        "takes a list of arrays and arranges them in order along an additional\n",
        "axis referred to as the depth:"
      ],
      "metadata":{
        
      }
    },
    {
      "cell_type":"code",
      "source":[
        "arr5 = np.arange(9).reshape(3,3)\n",
        "arr5"
      ],
      "execution_count":79,
      "outputs":[
        {
          "data":{
            "text\/plain":[
              "array([[0, 1, 2],\n",
              "       [3, 4, 5],\n",
              "       [6, 7, 8]])"
            ]
          },
          "metadata":{
            
          },
          "output_type":"display_data"
        }
      ],
      "metadata":{
        
      }
    },
    {
      "cell_type":"code",
      "source":[
        "arr6 = np.arange(9,18).reshape(3,3)\n",
        "arr6"
      ],
      "execution_count":80,
      "outputs":[
        {
          "data":{
            "text\/plain":[
              "array([[ 9, 10, 11],\n",
              "       [12, 13, 14],\n",
              "       [15, 16, 17]])"
            ]
          },
          "metadata":{
            
          },
          "output_type":"display_data"
        }
      ],
      "metadata":{
        
      }
    },
    {
      "cell_type":"code",
      "source":[
        "np.dstack((arr5,arr6))"
      ],
      "execution_count":81,
      "outputs":[
        {
          "data":{
            "text\/plain":[
              "array([[[ 0,  9],\n",
              "        [ 1, 10],\n",
              "        [ 2, 11]],\n",
              "\n",
              "       [[ 3, 12],\n",
              "        [ 4, 13],\n",
              "        [ 5, 14]],\n",
              "\n",
              "       [[ 6, 15],\n",
              "        [ 7, 16],\n",
              "        [ 8, 17]]])"
            ]
          },
          "metadata":{
            
          },
          "output_type":"display_data"
        }
      ],
      "metadata":{
        
      }
    },
    {
      "cell_type":"markdown",
      "source":[
        "# Useful numerical methods of NumPy arrays"
      ],
      "metadata":{
        
      }
    },
    {
      "cell_type":"code",
      "source":[
        "# demonstrate some of the properties of NumPy arrays\n",
        "m = np.arange(10, 19).reshape(3, 3)\n",
        "print (m)\n",
        "print (\"{0} min of the entire matrix\".format(m.min()))\n",
        "print (\"{0} max of entire matrix\".format(m.max()))\n",
        "print (\"{0} position of the min value\".format(m.argmin()))\n",
        "print (\"{0} position of the max value\".format(m.argmax()))\n",
        "print (\"{0} mins down each column\".format(m.min(axis = 0)))\n",
        "print (\"{0} mins across each row\".format(m.min(axis = 1)))\n",
        "print (\"{0} maxs down each column\".format(m.max(axis = 0)))"
      ],
      "execution_count":82,
      "outputs":[
        {
          "name":"stdout",
          "text":[
            "[[10 11 12]\n",
            " [13 14 15]\n",
            " [16 17 18]]\n",
            "10 min of the entire matrix\n",
            "18 max of entire matrix\n",
            "0 position of the min value\n",
            "8 position of the max value\n",
            "[10 11 12] mins down each column\n",
            "[10 13 16] mins across each row\n",
            "[16 17 18] maxs down each column\n"
          ],
          "output_type":"stream"
        }
      ],
      "metadata":{
        
      }
    },
    {
      "cell_type":"markdown",
      "source":[
        "# Some statiscal function "
      ],
      "metadata":{
        
      }
    },
    {
      "cell_type":"code",
      "source":[
        "my_array = np.arange(36).reshape(6,6)\n",
        "my_array"
      ],
      "execution_count":83,
      "outputs":[
        {
          "data":{
            "text\/plain":[
              "array([[ 0,  1,  2,  3,  4,  5],\n",
              "       [ 6,  7,  8,  9, 10, 11],\n",
              "       [12, 13, 14, 15, 16, 17],\n",
              "       [18, 19, 20, 21, 22, 23],\n",
              "       [24, 25, 26, 27, 28, 29],\n",
              "       [30, 31, 32, 33, 34, 35]])"
            ]
          },
          "metadata":{
            
          },
          "output_type":"display_data"
        }
      ],
      "metadata":{
        
      }
    },
    {
      "cell_type":"code",
      "source":[
        "print(f\"The mean of the array is {my_array.mean()}, \\nThe standard devition is {my_array.std()},\\nand the variation is {my_array.var()}\")"
      ],
      "execution_count":84,
      "outputs":[
        {
          "name":"stdout",
          "text":[
            "The mean of the array is 17.5, \n",
            "The standard devition is 10.388294694831615,\n",
            "and the variation is 107.91666666666667\n"
          ],
          "output_type":"stream"
        }
      ],
      "metadata":{
        
      }
    },
    {
      "cell_type":"code",
      "source":[
        "print(f\"The sum of array is {my_array.sum()}, \\nand the product is {my_array.prod()} \")"
      ],
      "execution_count":85,
      "outputs":[
        {
          "name":"stdout",
          "text":[
            "The sum of array is 630, \n",
            "and the product is 0 \n"
          ],
          "output_type":"stream"
        }
      ],
      "metadata":{
        
      }
    },
    {
      "cell_type":"code",
      "source":[
        "print(f\"The sum of array is {my_array.cumsum()}, \\nand the product is {my_array.cumprod()} \")"
      ],
      "execution_count":86,
      "outputs":[
        {
          "name":"stdout",
          "text":[
            "The sum of array is [  0   1   3   6  10  15  21  28  36  45  55  66  78  91 105 120 136 153\n",
            " 171 190 210 231 253 276 300 325 351 378 406 435 465 496 528 561 595 630], \n",
            "and the product is [0 0 0 0 0 0 0 0 0 0 0 0 0 0 0 0 0 0 0 0 0 0 0 0 0 0 0 0 0 0 0 0 0 0 0 0] \n"
          ],
          "output_type":"stream"
        }
      ],
      "metadata":{
        
      }
    },
    {
      "cell_type":"markdown",
      "source":[
        "# Applying Logical Operators on arrays"
      ],
      "metadata":{
        
      }
    },
    {
      "cell_type":"code",
      "source":[
        "a = np.arange(10)\n",
        "a"
      ],
      "execution_count":87,
      "outputs":[
        {
          "data":{
            "text\/plain":[
              "array([0, 1, 2, 3, 4, 5, 6, 7, 8, 9])"
            ]
          },
          "metadata":{
            
          },
          "output_type":"display_data"
        }
      ],
      "metadata":{
        
      }
    },
    {
      "cell_type":"code",
      "source":[
        "# .any() returns true if any of the values us less than 5 \n",
        "# and .all() return true if and only if all the values are less than 5\n",
        "\n",
        "(a < 5).any()"
      ],
      "execution_count":88,
      "outputs":[
        {
          "data":{
            "text\/plain":[
              "True"
            ]
          },
          "metadata":{
            
          },
          "output_type":"display_data"
        }
      ],
      "metadata":{
        
      }
    },
    {
      "cell_type":"code",
      "source":[
        "(a < 5). all()"
      ],
      "execution_count":89,
      "outputs":[
        {
          "data":{
            "text\/plain":[
              "False"
            ]
          },
          "metadata":{
            
          },
          "output_type":"display_data"
        }
      ],
      "metadata":{
        
      }
    },
    {
      "cell_type":"code",
      "source":[
        "names = np.array(['Bob', 'Joe', 'Will', 'Bob', 'Will', 'Joe', 'Joe'])\n",
        "names"
      ],
      "execution_count":90,
      "outputs":[
        {
          "data":{
            "text\/plain":[
              "array(['Bob', 'Joe', 'Will', 'Bob', 'Will', 'Joe', 'Joe'], dtype='<U4')"
            ]
          },
          "metadata":{
            
          },
          "output_type":"display_data"
        }
      ],
      "metadata":{
        
      }
    },
    {
      "cell_type":"code",
      "source":[
        "data =np.array(np.random.randn(7, 4)*10,dtype=np.int)\n",
        "data"
      ],
      "execution_count":91,
      "outputs":[
        {
          "data":{
            "text\/plain":[
              "array([[  8,   8, -10,  -1],\n",
              "       [  6, -14,   0,   0],\n",
              "       [ 21, -14,   6,   1],\n",
              "       [  0,  11,  13,   0],\n",
              "       [-13,   8, -21, -14],\n",
              "       [  3,  10,   6,  13],\n",
              "       [  9,   5, -15, -27]])"
            ]
          },
          "metadata":{
            
          },
          "output_type":"display_data"
        }
      ],
      "metadata":{
        
      }
    },
    {
      "cell_type":"markdown",
      "source":[
        "Suppose each name corresponds to a row in the data array and we wanted to select\n",
        "all the rows with corresponding name 'Bob'.\n",
        "\n",
        "Like arithmetic operations, comparisons (such as ==) with arrays are also vectorized.\n",
        "\n",
        "Thus, comparing names with the\n",
        "string 'Bob' yields a boolean array:"
      ],
      "metadata":{
        
      }
    },
    {
      "cell_type":"markdown",
      "source":[
        "![booleanSelection.png](attachment:booleanSelection.png)"
      ],
      "metadata":{
        
      }
    },
    {
      "cell_type":"markdown",
      "source":[
        "First consdier this, if we wnat to select (fancy selection) different rows from array we can pass a list of row indices.\n",
        "\n",
        "But a big but, if we want to select different rows based on some criteria like here we want all rows corresponding to name 'Bob' \n",
        "\n",
        "we will do booean indexing"
      ],
      "metadata":{
        
      }
    },
    {
      "cell_type":"code",
      "source":[
        "# fancy indexing \n",
        "data[[0,6]]"
      ],
      "execution_count":92,
      "outputs":[
        {
          "data":{
            "text\/plain":[
              "array([[  8,   8, -10,  -1],\n",
              "       [  9,   5, -15, -27]])"
            ]
          },
          "metadata":{
            
          },
          "output_type":"display_data"
        }
      ],
      "metadata":{
        
      }
    },
    {
      "cell_type":"code",
      "source":[
        "#boolean indexing now\n",
        "\n",
        "names == 'Bob' # vectorize comparision,will return true where name is bob in names array."
      ],
      "execution_count":93,
      "outputs":[
        {
          "data":{
            "text\/plain":[
              "array([ True, False, False,  True, False, False, False])"
            ]
          },
          "metadata":{
            
          },
          "output_type":"display_data"
        }
      ],
      "metadata":{
        
      }
    },
    {
      "cell_type":"code",
      "source":[
        "# this result can be passed in to data array to select true rows based on true and false (booleans)"
      ],
      "execution_count":94,
      "outputs":[
        
      ],
      "metadata":{
        
      }
    },
    {
      "cell_type":"code",
      "source":[
        "data[[ True, False, False,  True, False, False, False]] # this way"
      ],
      "execution_count":95,
      "outputs":[
        {
          "data":{
            "text\/plain":[
              "array([[  8,   8, -10,  -1],\n",
              "       [  0,  11,  13,   0]])"
            ]
          },
          "metadata":{
            
          },
          "output_type":"display_data"
        }
      ],
      "metadata":{
        
      }
    },
    {
      "cell_type":"code",
      "source":[
        "# a better ways is :\n",
        "data[names=='Bob']  # definitely inside data brackets boolean array will be generated by names=='Bob'"
      ],
      "execution_count":96,
      "outputs":[
        {
          "data":{
            "text\/plain":[
              "array([[  8,   8, -10,  -1],\n",
              "       [  0,  11,  13,   0]])"
            ]
          },
          "metadata":{
            
          },
          "output_type":"display_data"
        }
      ],
      "metadata":{
        
      }
    },
    {
      "cell_type":"code",
      "source":[
        "data[names!='Bob']"
      ],
      "execution_count":97,
      "outputs":[
        {
          "data":{
            "text\/plain":[
              "array([[  6, -14,   0,   0],\n",
              "       [ 21, -14,   6,   1],\n",
              "       [-13,   8, -21, -14],\n",
              "       [  3,  10,   6,  13],\n",
              "       [  9,   5, -15, -27]])"
            ]
          },
          "metadata":{
            
          },
          "output_type":"display_data"
        }
      ],
      "metadata":{
        
      }
    },
    {
      "cell_type":"code",
      "source":[
        "# Selecting two of the three names to combine multiple boolean conditions, use\n",
        "# boolean arithmetic operators like & (and) and | (or):"
      ],
      "execution_count":98,
      "outputs":[
        
      ],
      "metadata":{
        
      }
    },
    {
      "cell_type":"code",
      "source":[
        "mask = (names == 'Bob') | (names == 'Will') \n",
        "\n",
        "\n",
        "#this is multiple names condition genearting a sort of mask to provide to data array\n",
        "\n",
        "####The Python keywords and and or do not work with boolean arrays.##############\n",
        "\n",
        "#####################Use & (and) and | (or) instead.#############################"
      ],
      "execution_count":99,
      "outputs":[
        
      ],
      "metadata":{
        
      }
    },
    {
      "cell_type":"code",
      "source":[
        "data[mask]"
      ],
      "execution_count":100,
      "outputs":[
        {
          "data":{
            "text\/plain":[
              "array([[  8,   8, -10,  -1],\n",
              "       [ 21, -14,   6,   1],\n",
              "       [  0,  11,  13,   0],\n",
              "       [-13,   8, -21, -14]])"
            ]
          },
          "metadata":{
            
          },
          "output_type":"display_data"
        }
      ],
      "metadata":{
        
      }
    },
    {
      "cell_type":"code",
      "source":[
        "data[data < 0] = 0  # another way! It replaces all the values on true indexings with 0"
      ],
      "execution_count":101,
      "outputs":[
        
      ],
      "metadata":{
        
      }
    },
    {
      "cell_type":"code",
      "source":[
        "data"
      ],
      "execution_count":102,
      "outputs":[
        {
          "data":{
            "text\/plain":[
              "array([[ 8,  8,  0,  0],\n",
              "       [ 6,  0,  0,  0],\n",
              "       [21,  0,  6,  1],\n",
              "       [ 0, 11, 13,  0],\n",
              "       [ 0,  8,  0,  0],\n",
              "       [ 3, 10,  6, 13],\n",
              "       [ 9,  5,  0,  0]])"
            ]
          },
          "metadata":{
            
          },
          "output_type":"display_data"
        }
      ],
      "metadata":{
        
      }
    },
    {
      "cell_type":"markdown",
      "source":[
        "# Fancy Indexing"
      ],
      "metadata":{
        
      }
    },
    {
      "cell_type":"code",
      "source":[
        "data[[2,2]]"
      ],
      "execution_count":103,
      "outputs":[
        {
          "data":{
            "text\/plain":[
              "array([[21,  0,  6,  1],\n",
              "       [21,  0,  6,  1]])"
            ]
          },
          "metadata":{
            
          },
          "output_type":"display_data"
        }
      ],
      "metadata":{
        
      }
    },
    {
      "cell_type":"code",
      "source":[
        "data[[-1,-2]]"
      ],
      "execution_count":104,
      "outputs":[
        {
          "data":{
            "text\/plain":[
              "array([[ 9,  5,  0,  0],\n",
              "       [ 3, 10,  6, 13]])"
            ]
          },
          "metadata":{
            
          },
          "output_type":"display_data"
        }
      ],
      "metadata":{
        
      }
    },
    {
      "cell_type":"markdown",
      "source":[
        "# Transposing Arrays and Swapping Axes"
      ],
      "metadata":{
        
      }
    },
    {
      "cell_type":"code",
      "source":[
        "data.T"
      ],
      "execution_count":105,
      "outputs":[
        {
          "data":{
            "text\/plain":[
              "array([[ 8,  6, 21,  0,  0,  3,  9],\n",
              "       [ 8,  0,  0, 11,  8, 10,  5],\n",
              "       [ 0,  0,  6, 13,  0,  6,  0],\n",
              "       [ 0,  0,  1,  0,  0, 13,  0]])"
            ]
          },
          "metadata":{
            
          },
          "output_type":"display_data"
        }
      ],
      "metadata":{
        
      }
    },
    {
      "cell_type":"code",
      "source":[
        "np.transpose(data)"
      ],
      "execution_count":106,
      "outputs":[
        {
          "data":{
            "text\/plain":[
              "array([[ 8,  6, 21,  0,  0,  3,  9],\n",
              "       [ 8,  0,  0, 11,  8, 10,  5],\n",
              "       [ 0,  0,  6, 13,  0,  6,  0],\n",
              "       [ 0,  0,  1,  0,  0, 13,  0]])"
            ]
          },
          "metadata":{
            
          },
          "output_type":"display_data"
        }
      ],
      "metadata":{
        
      }
    },
    {
      "cell_type":"markdown",
      "source":[
        "# Universal Functions: Fast Element-Wise Array Functions"
      ],
      "metadata":{
        
      }
    },
    {
      "cell_type":"code",
      "source":[
        "arr = np.arange(10)\n",
        "arr"
      ],
      "execution_count":107,
      "outputs":[
        {
          "data":{
            "text\/plain":[
              "array([0, 1, 2, 3, 4, 5, 6, 7, 8, 9])"
            ]
          },
          "metadata":{
            
          },
          "output_type":"display_data"
        }
      ],
      "metadata":{
        
      }
    },
    {
      "cell_type":"code",
      "source":[
        "np.sqrt(arr)"
      ],
      "execution_count":108,
      "outputs":[
        {
          "data":{
            "text\/plain":[
              "array([0.        , 1.        , 1.41421356, 1.73205081, 2.        ,\n",
              "       2.23606798, 2.44948974, 2.64575131, 2.82842712, 3.        ])"
            ]
          },
          "metadata":{
            
          },
          "output_type":"display_data"
        }
      ],
      "metadata":{
        
      }
    },
    {
      "cell_type":"code",
      "source":[
        "np.exp(arr)"
      ],
      "execution_count":109,
      "outputs":[
        {
          "data":{
            "text\/plain":[
              "array([1.00000000e+00, 2.71828183e+00, 7.38905610e+00, 2.00855369e+01,\n",
              "       5.45981500e+01, 1.48413159e+02, 4.03428793e+02, 1.09663316e+03,\n",
              "       2.98095799e+03, 8.10308393e+03])"
            ]
          },
          "metadata":{
            
          },
          "output_type":"display_data"
        }
      ],
      "metadata":{
        
      }
    },
    {
      "cell_type":"code",
      "source":[
        "x = np.random.randn(8)\n",
        "y = np.random.randn(8)"
      ],
      "execution_count":110,
      "outputs":[
        
      ],
      "metadata":{
        
      }
    },
    {
      "cell_type":"code",
      "source":[
        "np.maximum(x, y) #compares both arrays element wise and max is included in result"
      ],
      "execution_count":111,
      "outputs":[
        {
          "data":{
            "text\/plain":[
              "array([ 0.89092347,  0.14883431, -0.04087864, -0.03774544, -0.17725212,\n",
              "       -0.86327697, -1.60560538,  0.07277605])"
            ]
          },
          "metadata":{
            
          },
          "output_type":"display_data"
        }
      ],
      "metadata":{
        
      }
    },
    {
      "cell_type":"code",
      "source":[
        "arr = np.random.randn(7) * 5\n",
        "arr"
      ],
      "execution_count":112,
      "outputs":[
        {
          "data":{
            "text\/plain":[
              "array([-4.51212235,  5.29058615, -2.75232947,  5.61671927,  0.33790782,\n",
              "       -2.81039604, -1.45035864])"
            ]
          },
          "metadata":{
            
          },
          "output_type":"display_data"
        }
      ],
      "metadata":{
        
      }
    },
    {
      "cell_type":"code",
      "source":[
        "remainder, whole_part = np.modf(arr) #modf separate whole n decimal parts and return them "
      ],
      "execution_count":113,
      "outputs":[
        
      ],
      "metadata":{
        
      }
    },
    {
      "cell_type":"code",
      "source":[
        "remainder"
      ],
      "execution_count":114,
      "outputs":[
        {
          "data":{
            "text\/plain":[
              "array([-0.51212235,  0.29058615, -0.75232947,  0.61671927,  0.33790782,\n",
              "       -0.81039604, -0.45035864])"
            ]
          },
          "metadata":{
            
          },
          "output_type":"display_data"
        }
      ],
      "metadata":{
        
      }
    },
    {
      "cell_type":"code",
      "source":[
        "whole_part"
      ],
      "execution_count":115,
      "outputs":[
        {
          "data":{
            "text\/plain":[
              "array([-4.,  5., -2.,  5.,  0., -2., -1.])"
            ]
          },
          "metadata":{
            
          },
          "output_type":"display_data"
        }
      ],
      "metadata":{
        
      }
    },
    {
      "cell_type":"markdown",
      "source":[
        "# List of unary funcs (Ufuncs)\n",
        "take single array input"
      ],
      "metadata":{
        
      }
    },
    {
      "cell_type":"markdown",
      "source":[
        "![unaryfuncs.png](attachment:unaryfuncs.png)"
      ],
      "metadata":{
        
      }
    },
    {
      "cell_type":"markdown",
      "source":[
        "# List of binary funcs:\n",
        "    take to arrays input"
      ],
      "metadata":{
        
      }
    },
    {
      "cell_type":"markdown",
      "source":[
        "![Binaryfuncs.png](attachment:Binaryfuncs.png)"
      ],
      "metadata":{
        
      }
    },
    {
      "cell_type":"markdown",
      "source":[
        "# Linear Algebra"
      ],
      "metadata":{
        
      }
    },
    {
      "cell_type":"markdown",
      "source":[
        "Like matrix multiplication, decompositions, determinants, and other square matrix math, is an important part of any array library. Unlike some languages like MATLAB, multiplying two two-dimensional arrays with * sign is an element-wise\n",
        "product instead of a matrix dot product. Thus, there is a function dot, both an array method and a function in the numpy namespace, for matrix multiplication."
      ],
      "metadata":{
        
      }
    },
    {
      "cell_type":"code",
      "source":[
        "x = np.array([[1., 2., 3.], [4., 5., 6.]])\n",
        "x"
      ],
      "execution_count":116,
      "outputs":[
        {
          "data":{
            "text\/plain":[
              "array([[1., 2., 3.],\n",
              "       [4., 5., 6.]])"
            ]
          },
          "metadata":{
            
          },
          "output_type":"display_data"
        }
      ],
      "metadata":{
        
      }
    },
    {
      "cell_type":"code",
      "source":[
        "y = np.array([[6., 23.], [-1, 7], [8, 9]])\n",
        "y"
      ],
      "execution_count":117,
      "outputs":[
        {
          "data":{
            "text\/plain":[
              "array([[ 6., 23.],\n",
              "       [-1.,  7.],\n",
              "       [ 8.,  9.]])"
            ]
          },
          "metadata":{
            
          },
          "output_type":"display_data"
        }
      ],
      "metadata":{
        
      }
    },
    {
      "cell_type":"markdown",
      "source":[
        "# Note:\n",
        "    to multiply two matices (element wise multiplication or mirror multiplication) both matrix must have same shape. "
      ],
      "metadata":{
        
      }
    },
    {
      "cell_type":"code",
      "source":[
        "x*y"
      ],
      "execution_count":118,
      "outputs":[
        {
          "ename":"ValueError",
          "evalue":"ValueError: operands could not be broadcast together with shapes (2,3) (3,2) ",
          "traceback":[
            "\u001b[0;31m---------------------------------------------------------------------------",
            "Traceback (most recent call last)",
            "    at line 1 in <module>",
            "ValueError: operands could not be broadcast together with shapes (2,3) (3,2) "
          ],
          "output_type":"error"
        }
      ],
      "metadata":{
        
      }
    },
    {
      "cell_type":"markdown",
      "source":[
        "In linear algebra rows of first matrix is multiplied by the columns of second matrix and this is only possilbe\n",
        "when columns of first matrix are equal to the rows of second matrix"
      ],
      "metadata":{
        
      }
    },
    {
      "cell_type":"markdown",
      "source":[
        "![matrixMult.png](attachment:matrixMult.png)"
      ],
      "metadata":{
        
      }
    },
    {
      "cell_type":"code",
      "source":[
        "# order of x\n",
        "x.shape"
      ],
      "execution_count":119,
      "outputs":[
        {
          "data":{
            "text\/plain":[
              "(2, 3)"
            ]
          },
          "metadata":{
            
          },
          "output_type":"display_data"
        }
      ],
      "metadata":{
        
      }
    },
    {
      "cell_type":"code",
      "source":[
        "# order of y\n",
        "y.shape"
      ],
      "execution_count":120,
      "outputs":[
        {
          "data":{
            "text\/plain":[
              "(3, 2)"
            ]
          },
          "metadata":{
            
          },
          "output_type":"display_data"
        }
      ],
      "metadata":{
        
      }
    },
    {
      "cell_type":"code",
      "source":[
        "# col of x ==  rows of y \n",
        "# hence matrix multiplication can be done"
      ],
      "execution_count":121,
      "outputs":[
        
      ],
      "metadata":{
        
      }
    },
    {
      "cell_type":"code",
      "source":[
        "np.dot(x,y)"
      ],
      "execution_count":122,
      "outputs":[
        {
          "data":{
            "text\/plain":[
              "array([[ 28.,  64.],\n",
              "       [ 67., 181.]])"
            ]
          },
          "metadata":{
            
          },
          "output_type":"display_data"
        }
      ],
      "metadata":{
        
      }
    },
    {
      "cell_type":"code",
      "source":[
        "np.dot(y,x)  # y.y also fulfilling the rule"
      ],
      "execution_count":123,
      "outputs":[
        {
          "data":{
            "text\/plain":[
              "array([[ 98., 127., 156.],\n",
              "       [ 27.,  33.,  39.],\n",
              "       [ 44.,  61.,  78.]])"
            ]
          },
          "metadata":{
            
          },
          "output_type":"display_data"
        }
      ],
      "metadata":{
        
      }
    },
    {
      "cell_type":"markdown",
      "source":[
        "# Note:\n",
        "it is not neccesary if a.b is possible so b.a will be. \n",
        "\n",
        "np.dot(a,b)  \n",
        "\n",
        "a.dot(b)\n",
        "\n",
        "\n",
        "a@b\n",
        "\n",
        "All are same"
      ],
      "metadata":{
        
      }
    },
    {
      "cell_type":"markdown",
      "source":[
        "# numpy.linalg"
      ],
      "metadata":{
        
      }
    },
    {
      "cell_type":"code",
      "source":[
        "# has a standard set of matrix decompositions and things like inverse\n",
        "# and determinant. These are implemented under the hood via the same industrystandard linear algebra libraries used in other languages like MATLAB and R, such as\n",
        "# BLAS, LAPACK, or possibly (depending on your NumPy build) the proprietary Intel\n",
        "# MKL (Math Kernel Library):"
      ],
      "execution_count":124,
      "outputs":[
        
      ],
      "metadata":{
        
      }
    },
    {
      "cell_type":"code",
      "source":[
        "from numpy.linalg import inv, qr"
      ],
      "execution_count":125,
      "outputs":[
        
      ],
      "metadata":{
        
      }
    },
    {
      "cell_type":"code",
      "source":[
        "X = np.array((np.random.randn(5, 5)*10),dtype='int32')\n",
        "X"
      ],
      "execution_count":126,
      "outputs":[
        {
          "data":{
            "text\/plain":[
              "array([[-11, -13,  -8, -21,   1],\n",
              "       [  8,  20, -18,  -2, -14],\n",
              "       [  2, -14,   1,   0,  -7],\n",
              "       [ 16,   6, -10,  -2,  20],\n",
              "       [ -3,  12,   3,  11,   2]], dtype=int32)"
            ]
          },
          "metadata":{
            
          },
          "output_type":"display_data"
        }
      ],
      "metadata":{
        
      }
    },
    {
      "cell_type":"code",
      "source":[
        "inv(X)"
      ],
      "execution_count":127,
      "outputs":[
        {
          "data":{
            "text\/plain":[
              "array([[-0.05821858,  0.00325178, -0.03345186,  0.00445339, -0.10974363],\n",
              "       [-0.02373768,  0.00817853, -0.08608194, -0.01849747, -0.04719356],\n",
              "       [-0.07118137, -0.03009717, -0.12514446, -0.04633074, -0.1497877 ],\n",
              "       [ 0.02567228,  0.00375997,  0.11857441,  0.02827497,  0.14574435],\n",
              "       [ 0.02067271, -0.01972757,  0.00187128,  0.03164866,  0.04163355]])"
            ]
          },
          "metadata":{
            
          },
          "output_type":"display_data"
        }
      ],
      "metadata":{
        
      }
    },
    {
      "cell_type":"markdown",
      "source":[
        "The expression X.T.dot(X) computes the dot product of X with its transpose X.T."
      ],
      "metadata":{
        
      }
    },
    {
      "cell_type":"code",
      "source":[
        "mat = X.T.dot(X)\n",
        "mat"
      ],
      "execution_count":128,
      "outputs":[
        {
          "data":{
            "text\/plain":[
              "array([[ 454,  335, -223,  150,  177],\n",
              "       [ 335,  945, -294,  353,  -51],\n",
              "       [-223, -294,  498,  257,   43],\n",
              "       [ 150,  353,  257,  570,  -11],\n",
              "       [ 177,  -51,   43,  -11,  650]], dtype=int32)"
            ]
          },
          "metadata":{
            
          },
          "output_type":"display_data"
        }
      ],
      "metadata":{
        
      }
    },
    {
      "cell_type":"markdown",
      "source":[
        "![numpyLinAlg.png](attachment:numpyLinAlg.png)"
      ],
      "metadata":{
        
      }
    },
    {
      "cell_type":"code",
      "source":[
        
      ],
      "execution_count":128,
      "outputs":[
        
      ],
      "metadata":{
        
      }
    }
  ],
  "metadata":{
    
  },
  "nbformat":4,
  "nbformat_minor":0
}